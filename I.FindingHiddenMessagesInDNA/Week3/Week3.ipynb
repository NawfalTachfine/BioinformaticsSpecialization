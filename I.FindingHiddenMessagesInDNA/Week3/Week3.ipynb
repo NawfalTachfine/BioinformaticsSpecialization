{
 "cells": [
  {
   "cell_type": "markdown",
   "metadata": {},
   "source": [
    "# Week 3 - Which DNA Patterns Serve as Molecular Clocks?"
   ]
  },
  {
   "cell_type": "code",
   "execution_count": 1,
   "metadata": {},
   "outputs": [],
   "source": [
    "def change_one(sequence, position):\n",
    "    bases = ['A', 'C', 'G', 'T']\n",
    "    seq = list(sequence)\n",
    "    i = position\n",
    "    variants = [''.join(seq[:i] + [b] + seq[i+1:]) for b in bases if b != seq[i]]\n",
    "    return variants\n",
    "\n",
    "def change_many(sequence, positions):\n",
    "    seqs = [sequence]\n",
    "    while positions:\n",
    "        p = positions.pop()\n",
    "        seqs.extend([v for s in seqs for v in change_one(s, p)])\n",
    "    return seqs\n",
    "\n",
    "\n",
    "from itertools import combinations\n",
    "\n",
    "def neighbors(pattern, threshold):\n",
    "    neighbors = set([pattern])\n",
    "    for i in range(1, threshold + 1):\n",
    "        for c in combinations(range(len(pattern)), i):\n",
    "            neighbors.update(change_many(pattern, list(c)))\n",
    "    return list(neighbors)"
   ]
  },
  {
   "cell_type": "code",
   "execution_count": 2,
   "metadata": {},
   "outputs": [],
   "source": [
    "def motif_enumeration(dna, k, d):\n",
    "    patterns = list()\n",
    "    for chunk in dna:\n",
    "        kmers = [chunk[i:i+k] for i in range(len(chunk) - k + 1)]\n",
    "        extended_kmers = set([kmer_prime for kmer in kmers for kmer_prime in neighbors(kmer, d)])\n",
    "        patterns.append(extended_kmers)\n",
    "    return list(set.intersection(*patterns))      "
   ]
  },
  {
   "cell_type": "code",
   "execution_count": 3,
   "metadata": {},
   "outputs": [],
   "source": [
    "dna_ex = [\n",
    "    'ATTTGGC',\n",
    "    'TGCCTTA',\n",
    "    'CGGTATC',\n",
    "    'GAAAATT',\n",
    "]\n",
    "sample_in = (dna_ex, 3, 1)\n",
    "sample_out = ['ATA', 'ATT', 'GTT', 'TTT']"
   ]
  },
  {
   "cell_type": "code",
   "execution_count": 4,
   "metadata": {
    "scrolled": true
   },
   "outputs": [],
   "source": [
    "assert sorted(motif_enumeration(*sample_in)) == sorted(sample_out)"
   ]
  },
  {
   "cell_type": "code",
   "execution_count": 5,
   "metadata": {},
   "outputs": [],
   "source": [
    "dna_ex = [\n",
    "    'TACTGAGTTAGAGGTATCTGTGCAA',\n",
    "    'ATGTAGGTAACACTTCCCCACGGCT',\n",
    "    'CGGAAACTGCGTTTCTATCACCGTT',\n",
    "    'TACGCGGTAGTGCTTAGCGCTGAAA',\n",
    "    'AAGGCAGAGTCTGTTGGCAAATAAA',\n",
    "    'CTTACGTTGGGCCAGCGTAATCGAT',\n",
    "]\n",
    "sample_in = (dna_ex, 5, 2)\n",
    "motifs = motif_enumeration(*sample_in)"
   ]
  },
  {
   "cell_type": "markdown",
   "metadata": {},
   "source": [
    "---"
   ]
  },
  {
   "cell_type": "code",
   "execution_count": 6,
   "metadata": {},
   "outputs": [],
   "source": [
    "def hamming_distance(seq, seq_prime):\n",
    "    diff = [int(a != b) for a, b in zip(seq, seq_prime)]\n",
    "    return sum(diff)"
   ]
  },
  {
   "cell_type": "code",
   "execution_count": 7,
   "metadata": {},
   "outputs": [],
   "source": [
    "def distance(kmer, dna):\n",
    "    d = 0\n",
    "    for chunk in dna:\n",
    "        d += min([hamming_distance(kmer, chunk[i:i+k]) for i in range(len(chunk) - k + 1)])\n",
    "    return d"
   ]
  },
  {
   "cell_type": "code",
   "execution_count": 8,
   "metadata": {},
   "outputs": [],
   "source": [
    "from numpy import inf\n",
    "\n",
    "def median_string(dna, k):\n",
    "    median = None\n",
    "    d = inf\n",
    "    kmers = list(set([chunk[i:i+k] for chunk in dna for i in range(len(chunk) - k + 1)]))\n",
    "    for kmer in kmers:\n",
    "        d_prime = distance(kmer, dna)\n",
    "        if d > d_prime:\n",
    "            d = d_prime\n",
    "            median = kmer\n",
    "    return median"
   ]
  },
  {
   "cell_type": "code",
   "execution_count": 9,
   "metadata": {},
   "outputs": [],
   "source": [
    "k = 3\n",
    "dna = [\n",
    "    'AAATTGACGCAT',\n",
    "    'GACGACCACGTT',\n",
    "    'CGTCAGCGCCTG',\n",
    "    'GCTGAGCACCGG',\n",
    "    'AGTTCGGGACAG',\n",
    "]\n",
    "sample_in = (dna, k)\n",
    "sample_out = 'GAC'"
   ]
  },
  {
   "cell_type": "code",
   "execution_count": 10,
   "metadata": {},
   "outputs": [],
   "source": [
    "assert median_string(*sample_in) == sample_out"
   ]
  },
  {
   "cell_type": "code",
   "execution_count": 11,
   "metadata": {},
   "outputs": [],
   "source": [
    "dna = [\n",
    "    'AACTATGGGATAAAACGCTTGATTATTAATGCTAGAATTCCG',\n",
    "    'GCCGACAGTGCTCGGTGCCCCTAGTATGTTCCCGGTAAACGC',\n",
    "    'TTAACTGCAGTATAAATTAGCCCCAGCCGTTAACTTAAACGC',\n",
    "    'TGTTCCGCACCGTAACGCGAATACTCAAATTTACCCTACGGA',\n",
    "    'GTATGACGGTTATAACGCGATGATCAGTCTAGAACGGGGCAG',\n",
    "    'GTTGGGAACTCCACTGTCAGCGGCTGACGCCAACGCCCGTGT',\n",
    "    'ACACTTCTCCTACAACGCATCCCTGGCCATTTGCCCACACGT',\n",
    "    'CAACGCGATTATGCGGGTTACTTGGTTGACCCCTGAGATTTG',\n",
    "    'TCCGTTATTGATGTTTAGAGATGAACGCTGAAACGCGTCGCG',\n",
    "    'ACTCGGACTATAAAACGCCACCCCCATCGTCTCGTTCAGGTT',\n",
    "]\n",
    "k = 6"
   ]
  },
  {
   "cell_type": "code",
   "execution_count": 12,
   "metadata": {},
   "outputs": [
    {
     "data": {
      "text/plain": [
       "'AAACGC'"
      ]
     },
     "execution_count": 12,
     "metadata": {},
     "output_type": "execute_result"
    }
   ],
   "source": [
    "median_string(dna, k)"
   ]
  },
  {
   "cell_type": "markdown",
   "metadata": {},
   "source": [
    "---"
   ]
  },
  {
   "cell_type": "code",
   "execution_count": 13,
   "metadata": {},
   "outputs": [],
   "source": [
    "def profile_most_probable_kmer(text, k, profile):\n",
    "    bases = {'A': 0, 'C': 1, 'G': 2, 'T': 3}\n",
    "    probabilities = dict()\n",
    "    for i in range(len(text) - k + 1):\n",
    "        kmer = text[i:i+k]\n",
    "        if kmer not in probabilities.keys():\n",
    "            probability = 1\n",
    "            for j, base in enumerate(kmer):\n",
    "                probability *= float(profile[bases[base]][j])\n",
    "            probabilities[kmer] = probability\n",
    "    most_probable, _ = max(probabilities.items(), key=lambda x:x[1])\n",
    "    return most_probable"
   ]
  },
  {
   "cell_type": "code",
   "execution_count": 14,
   "metadata": {},
   "outputs": [],
   "source": [
    "text = 'ACCTGTTTATTGCCTAAGTTCCGAACAAACCCAATATAGCCCGAGGGCCT'\n",
    "k = 5\n",
    "profile_ = \"\"\"\n",
    "0.2 0.2 0.3 0.2 0.3\n",
    "0.4 0.3 0.1 0.5 0.1\n",
    "0.3 0.3 0.5 0.2 0.4\n",
    "0.1 0.2 0.1 0.1 0.2\n",
    "\"\"\"\n",
    "profile = [line.split(' ') for line in profile_.split('\\n') if line]\n",
    "\n",
    "sample_in = (text, k, profile)\n",
    "sample_out = 'CCGAG'"
   ]
  },
  {
   "cell_type": "code",
   "execution_count": 15,
   "metadata": {},
   "outputs": [],
   "source": [
    "assert profile_most_probable_kmer(*sample_in) == sample_out"
   ]
  },
  {
   "cell_type": "code",
   "execution_count": 16,
   "metadata": {},
   "outputs": [],
   "source": [
    "text = 'GGGCGAACGTATAGGCCCTGTCGTATCCTACGAGCCGGGCCTTTATTCTGCCGAGTATCTTGGAACACTCTTCAGACGCCGCAAGTCTCAAGTGAATTTCCACCCCGTTAAGGTGTACCATTTATGGTAACGCCAAAGCCAGCATATAACATACACCTAATGCAAAGGCATGGGGGTCTACGTTTCATTTCTGTGGCATGGTTATTGTCGATCTCGATTCAGATACAAACATCGAGCACTGGTCCAGGCGTTCGTGCTTGGAGAAGAATACAGTCACGTCGATCATAGTCTGAGAGACCAGCGGTAGCGCAAACTCACTGCGGGGGCGATGATATAGGGGAGCCCTCAGAGAACTATATGTTATCTGGCATGAACGGAAAGATCTGAAATTAATTGTTATCTACAGCCCCTGGTAAAGGCAAAACTAGCGCCGTTGTCCGGTTAACCAGCGATCTCGGATCGATGACTCGGTCCAGGCCAGGACGAACCCCATGACGGGGCCACCTTGTGAGCTCTGTTGAAAGCTCGGATGTCACGCGGTCGACAACGCCCAACCACCAAATAATAGGGGATAACCTGGATAAGCATTTTCAGGTGTAACTAGTGACCTCCACGATGCTAGCCTGTGTGGCGGATTCATCTTGAGAGCGAGAGGTGCGCGTCGTTGTCACAAGCGTTTCGCGCGCGAAAAGCAGATACGGGCCGTTAACTGAATTTCGTGACAGTATTATTTAACCGGTGGAGAGTTATTGTATATGAATGCCGGCTTGACGGAAAATTATTCCCCTACGATAATTTTTGTCCAAAGCATACCGCTAGCTTAATTTCGGCTTAGTGAGTGAATTAGTACGAAAAAGCCTCGTAGACACCGCCTAGTACATTTCAACCAACCCCCGATGATCCAAGGCCGGAGCTTTTAGCAATGCGAGTGGGCTGCCTGCAGTGATGCAGTGTTTGTAGTCCTTTTGACAGACTCCAAACAGCTGCGGACAGGGGCGTT'\n",
    "k = 12\n",
    "profile_ = \"\"\"\n",
    "0.205 0.301 0.241 0.241 0.301 0.265 0.313 0.253 0.205 0.241 0.277 0.157\n",
    "0.253 0.265 0.325 0.229 0.217 0.181 0.253 0.241 0.325 0.289 0.265 0.337\n",
    "0.169 0.265 0.205 0.313 0.265 0.289 0.265 0.205 0.193 0.277 0.217 0.301\n",
    "0.373 0.169 0.229 0.217 0.217 0.265 0.169 0.301 0.277 0.193 0.241 0.205\n",
    "\"\"\"\n",
    "profile = [line.split(' ') for line in profile_.split('\\n') if line]"
   ]
  },
  {
   "cell_type": "code",
   "execution_count": 17,
   "metadata": {},
   "outputs": [
    {
     "data": {
      "text/plain": [
       "'TACGAAAAAGCC'"
      ]
     },
     "execution_count": 17,
     "metadata": {},
     "output_type": "execute_result"
    }
   ],
   "source": [
    "profile_most_probable_kmer(text, k, profile)"
   ]
  },
  {
   "cell_type": "markdown",
   "metadata": {},
   "source": [
    "---"
   ]
  },
  {
   "cell_type": "code",
   "execution_count": 72,
   "metadata": {},
   "outputs": [],
   "source": [
    "import numpy as np\n",
    "\n",
    "def form_profile(motifs):\n",
    "    bases = {'A': 0, 'C': 1, 'G': 2, 'T': 3}\n",
    "    counts = np.zeros((4, len(motifs[0])))\n",
    "    for line in motifs:\n",
    "        for j, base in enumerate(line):\n",
    "            counts[bases[base]][j] += 1\n",
    "    freqs = counts / counts.sum(axis=0, keepdims=True)\n",
    "    return freqs.tolist()"
   ]
  },
  {
   "cell_type": "code",
   "execution_count": 73,
   "metadata": {},
   "outputs": [],
   "source": [
    "def score_motifs(motifs):\n",
    "    bases = {'A': 0, 'C': 1, 'G': 2, 'T': 3}\n",
    "    n = len(motifs[0])\n",
    "    counts = np.zeros((4, n))\n",
    "    for line in motifs:\n",
    "        for j, base in enumerate(line):\n",
    "            counts[bases[base]][j] += 1\n",
    "    score = sum(len(motifs) - counts.max(axis=0))\n",
    "    return score"
   ]
  },
  {
   "cell_type": "code",
   "execution_count": 74,
   "metadata": {},
   "outputs": [],
   "source": [
    "assert score_motifs([\n",
    "    'TC',\n",
    "    'CC',\n",
    "    'AC',\n",
    "    'TT',\n",
    "    'AA',\n",
    "    'TT',\n",
    "    'TC',\n",
    "    'TA',\n",
    "    'TC',\n",
    "    'TC',\n",
    "]) == 7"
   ]
  },
  {
   "cell_type": "code",
   "execution_count": 75,
   "metadata": {},
   "outputs": [],
   "source": [
    "def greedy_motif_search(dna, k, t):\n",
    "    best_motifs = [chunk[0:k] for chunk in dna]\n",
    "    for i in range(len(dna[0]) - k + 1):\n",
    "        kmer = dna[0][i:i+k]\n",
    "        motifs = [kmer]\n",
    "        for j, chunk in enumerate(dna[1:]):\n",
    "            profile = form_profile(motifs[:j+1])\n",
    "            motifs.append(profile_most_probable_kmer(chunk, k, profile))\n",
    "        if score_motifs(motifs) < score_motifs(best_motifs):\n",
    "            best_motifs = motifs\n",
    "    return best_motifs"
   ]
  },
  {
   "cell_type": "markdown",
   "metadata": {},
   "source": [
    "    GreedyMotifSearch(Dna, k, t)\n",
    "        BestMotifs ← motif matrix formed by first k-mers in each string from Dna\n",
    "        for each k-mer Motif in the first string from Dna\n",
    "            Motif1 ← Motif\n",
    "            for i = 2 to t\n",
    "                form Profile from motifs Motif1, …, Motifi - 1\n",
    "                Motifi ← Profile-most probable k-mer in the i-th string in Dna\n",
    "            Motifs ← (Motif1, …, Motift)\n",
    "            if Score(Motifs) < Score(BestMotifs)\n",
    "                BestMotifs ← Motifs\n",
    "        return BestMotifs"
   ]
  },
  {
   "cell_type": "code",
   "execution_count": 76,
   "metadata": {},
   "outputs": [],
   "source": [
    "k = 3\n",
    "t = 5\n",
    "dna = [\n",
    "    'GGCGTTCAGGCA',\n",
    "    'AAGAATCAGTCA',\n",
    "    'CAAGGAGTTCGC',\n",
    "    'CACGTCAATCAC',\n",
    "    'CAATAATATTCG',\n",
    "]\n",
    "sample_in = (dna, k, t)\n",
    "sample_out = ['CAG', 'CAG', 'CAA', 'CAA', 'CAA']"
   ]
  },
  {
   "cell_type": "code",
   "execution_count": 77,
   "metadata": {},
   "outputs": [],
   "source": [
    "assert greedy_motif_search(*sample_in) == sample_out"
   ]
  },
  {
   "cell_type": "code",
   "execution_count": 78,
   "metadata": {},
   "outputs": [],
   "source": [
    "k = 12\n",
    "t = 25\n",
    "dna_ = \"\"\"\n",
    "CGTCAAGGCATGTCGGGCTCACGCTGACGATGAGACATAACGCCAGCGGTCGGTTACTGGGCCGGAATCTGGGCCATAAGACAAAAGGACGAAGACGTAATAGAATGGCAGATAACCGTACCATGTTCAAAGGGGCGTACGCTAAAATTCGCGACG\n",
    "TCTTGTGCACGATCTACGCGAACGCTGGCCAGTAATGAAAACGCAGACGTGTGGCATTTAATAATATCGGTTGTTGTTCCACCGACTGCCCCGATGGGGCCCGTTTGGGCAGGCAATAGCAAGTTCCCCCCTGTCATTTCTTGTGTTCCGGCCAAC\n",
    "TTAATGCGGACTACAGCTCGTCCAGGGCCACGCTGCGTCTACCGTAGCTAGGACGTAGACATGAGCATTGCTATGTTTGATTGACATTCCTCCGGATCCGTGCGAACTGCCTCGACGAACTAGAGCTTGTACCGCGCGTCGGTTGCTGCTCTTACT\n",
    "TACAACGTAGACTCGTCTGCGATGTGGTAGCTCAGGGCGGGAGCTCGATCCCTTCCGACGCTTGGGCAACCTCCCTGTCGCCTAATATGCGTGCACTGGAAGCGGATCAAGTTGCAAACTTGAAGCGATGCGGTTGAATTGAGCTGATTACGTTGT\n",
    "TTGACCCGCTGGAAGGGACGAAAAGCTACAACACGGCATTATGGATGGGAAATGTACAAATCGGATAGGTCCAGTGCCATAGCGACTGTTCATGAATGGGACGGCGACGACTACGAAGACGACCATGCAACTTCCGGTTGGAATAGTTCTGTGAGA\n",
    "CAAGAGGCTGAAGAGTTCAATGTTTAATACGAAGACTAGCATAGTTTGCCTACTAGGAGTCTGCTGAATCCACAGCGGACGATATCCCCGTTCCAGATTAGTTGGCTCTGGATAACCGTCAACAAGGGTTGTCAGGATGTCTTACTACAGCCTCCC\n",
    "ATAAGACCATGTCTTAACCCCAGCAGGTTCTTAATTTAAAACGCAGACAAGTCCGCTGACGGCACCACTTCGACGCGCCGGGCCGCAGAGTCAATTAGCTGGGTTGCGTCGCATGCTTTGGTGACCGCGCTACCACTTTATTTTGTCCTGTAGCAA\n",
    "TAATACTTCAAGTAAACGCCAATACCGGAATACTCGAATCCCGTGCCGCCTGTCGGAGGTCACCCCATCCAAATTTTCTCGATTGTCACCGTGTCGAAGAACAATGATAAGTGCCGACTCCGTGCTGATACGAACGACGAAGACTCACGATTGACC\n",
    "TGTATCACACAACAATGATAGGATCTGACCTAACCTGTCCAAGATGGCGTGCAACGAAATTACTACGTTGAGGTGATAGATACAGGTCTTCAGCTTGCTATACGGTCAGCCACCAATTCTTAAGACGCAGACGAAAACTACCACATTGCATCAGAA\n",
    "GGAGAACGGCCGGGGAATAGACGCATACTGAGGACATACATCCTTTGCCTACGTAGTGAGCTTGCCTAAGATAGATATAACCGTCATAAGACTCGCGAGGCCGAGAATTCTGCTTCGTTCACGGGTTAGAGTAACCACGAAGACACGTCACCTGGA\n",
    "TATTTGATCCGTTTAATGCTTGGGCGACACTCTGGTGAAAACCAAATAGAGCCTGTAGATAAGGTGGGGTTGAACTATTGAAGCCGCATTTGATCCCTAGCAATTACGAGAACTTTACCACCATTTGGAGCGATGCCGATTGGCAAGCACGTAGAC\n",
    "TGGAAGTGTACGCCTAAGCTACTACCACCTCGAGTGCTTCCCGAGGGGCCGAATTATCCTGATCACGTAGACTGGATTAAGCACGGACCGTCAAAGGACTCAAACATGTAGCTTCGCCTGAAGCCCCCGTGCCCACGGGCTGGAGTGCCAGACACC\n",
    "GACGACGGAGACCTTTCTGGAATTTTGAATGTCATATTGACCTTGCTCGAGTGACACTTTAGGATTAACGATGCAACTTTGACCCAGGGGCCATCATCATAACATGGTAATCAGGAGATACGTCAGCCGACCATCTGCCTATGAACTAGCCCGTAA\n",
    "GATAACGGAGACGTCTCAAGTCAGATACTCCTTCCGCAGTGCTACCGTCGTCGTCAATAACTGCTGGAAGCCGCGCGCCTAGTTTAGAAACACTTTTGCCATTTTTGAGAATGGTTACCAGAGAAGGCTTCAACCAGAGCTTAATAACAGTGCATG\n",
    "GGGTTAGAGCTCGGAAACAGCGTAACGGAGCTGGACCCCCGGCGGCTTCATACGAGGACACCGTAAACGGGCAACTGGGTTTAAATTAGCAGTATGAACCCCATATAGGTAAATGTCCACTTTATGACGGCTTGACCCGAATCTTATAACGAAGAC\n",
    "GTTATTAATCGAATCGCTGACTCGCGTTGGTCTTCGTGTGTCATTACCGCAATCGGGCATTTATGGCAGTAGAGCAAACTCTTTAATGTCTCTAACGCCAATTCTTGCCAACGTGTGAGTGACGACGTAGACTATCGAAAGTATAGGGTGGGCCCC\n",
    "ACCAAGAGCGAAAAGGCACCCTGCACCACCACTCAGCAAGGGGAATACCGCGAAGACAGTACACACGATGTGCACGACGAAGACAGCGGCATGTCAGAAAGCACGAGCGAAGTCCTTAGTAAAGAAACACGATAGGCCCATAATGCAGTTACGAAG\n",
    "ATCGCACGCGCTAAACTATTGTCATTCGGCCCGGTTTGGTGCGTAATCAAGATGGGGCGAACCATCTCAGAGCAGAATAATAGTTGCCAGGCACGGGAACCACACTCGGAAAACGGAGACGTGCTAATCAGATGGGCCATCTGGCCGAAGCCGATT\n",
    "ACCCTGACGTGTCTGGATGTTAGTCGGCGTATAACCTAGGTCGTCTGTATCGGCGAATGCGCGGCCGCCAGAAACAACGAAGACGTTACACGACTCCTGCGGTCCTTCCCGTTACGAAGAGTGGAATGCTACCGCCGATTCTTCACTTACATAGTC\n",
    "AAGCAACGCGGTCTAAGATTTGCCCGGTCAAACTGATGTCTCTATCAGCTAACCAACTGTATCATGTAATCAGATAACCGCGTAATGGTGACATGTCCCAATTGTTAGGACTACGTAGACCTTTACTGATATTGCTCCTCAGCCAACTGCTCGATG\n",
    "GTTGTAAGTCCTTCAATGGATGTTGTAGCGCTTTTGCTGTTCTAACCGCCAACGACCGTTCAGTACGTAGACGCACCCACGTAGGAAGACCATACAACATGATCCGCAGCATGGCTCAGCGAAGCTATTAAACAAGCCGCTGGGATCGGCCCGTCT\n",
    "GCTGTCTCCGCCGAGGGACTACTGATGGACCCGACTCGACAGTTGTTTAAAAGTAGCTCGACCCTGCGTGCATCCTCTAAGTTAGGGTCGCCTCCGGCGGCCCAATCTGATCACGCAGACTGGGGGCTCCCAAGCGTTCGTCTGCGGGAGGGCGAC\n",
    "TCGAGGTGTCAAAACTCACGCCAGGGCGTCAGCCCCCTATCACGTCGCGCCGCTCGGACAAAGTGAGTCTTACAATACGCAGACAACCATCCAGATACGTCCTCTTTACTGGCGAGTTGCTGTGCCTGCGTGTTGTGGATGGCAGTTTGCTAATCT\n",
    "TTGACGAATTAGCATTGTATCCGGTCGGAAACGAAACGATGCTGGCCCGTGAAGAATACATTCACTCAAAGCCATGATAACTTTTGACAACCGAGTACACATCTTTCTAGAGGCCGGCTGGAGTACGAAGACTCTATAGAGATTCTAATTGCTCTA\n",
    "TTGTGTGCTAAGCGCAGGTTAGGGCCTTTGCTTAAATATATTTACTAAAGCAAGCTCGACACACGTGACAACACAAACGATGTGCAAAACGTAGACATTCTCTTACTATTGATCCTGTATAGGGCAACTAGCATGCAGGCTAATGTCCCCACTTCT\n",
    "\"\"\"\n",
    "dna = [line for line in dna_.split('\\n') if line]\n",
    "result = greedy_motif_search(dna, k, t)"
   ]
  },
  {
   "cell_type": "code",
   "execution_count": 79,
   "metadata": {},
   "outputs": [
    {
     "name": "stdout",
     "output_type": "stream",
     "text": [
      "AGGACGAAGACG\n",
      "TCTTGTGCACGA\n",
      "TTAATGCGGACT\n",
      "TACAACGTAGAC\n",
      "TGGATGGGAAAT\n",
      "AAGAGGCTGAAG\n",
      "AAAACGCAGACA\n",
      "ACGACGAAGACT\n",
      "AAGACGCAGACG\n",
      "ACCACGAAGACA\n",
      "ATTACGAGAACT\n",
      "AGGACTCAAACA\n",
      "ACGACGGAGACC\n",
      "ATAACGGAGACG\n",
      "AGCTCGGAAACA\n",
      "ATGTCTCTAACG\n",
      "ACGACGAAGACA\n",
      "AAAACGGAGACG\n",
      "ACAACGAAGACG\n",
      "AAGCAACGCGGT\n",
      "TAGACGCACCCA\n",
      "ATCACGCAGACT\n",
      "AATACGCAGACA\n",
      "AGTACGAAGACT\n",
      "ACAACACAAACG\n"
     ]
    }
   ],
   "source": [
    "print('\\n'.join(result))"
   ]
  },
  {
   "cell_type": "markdown",
   "metadata": {},
   "source": [
    "---"
   ]
  },
  {
   "cell_type": "code",
   "execution_count": 80,
   "metadata": {},
   "outputs": [],
   "source": [
    "import numpy as np\n",
    "\n",
    "def pseudo_form_profile(motifs):\n",
    "    bases = {'A': 0, 'C': 1, 'G': 2, 'T': 3}\n",
    "    counts = np.ones((4, len(motifs[0])))\n",
    "    for line in motifs:\n",
    "        for j, base in enumerate(line):\n",
    "            counts[bases[base]][j] += 1\n",
    "    freqs = counts / counts.sum(axis=0, keepdims=True)\n",
    "    return freqs.tolist()"
   ]
  },
  {
   "cell_type": "code",
   "execution_count": 81,
   "metadata": {},
   "outputs": [],
   "source": [
    "def pseudo_greedy_motif_search(dna, k, t):\n",
    "    best_motifs = [chunk[0:k] for chunk in dna]\n",
    "    for i in range(len(dna[0]) - k + 1):\n",
    "        kmer = dna[0][i:i+k]\n",
    "        motifs = [kmer]\n",
    "        for j, chunk in enumerate(dna[1:]):\n",
    "            profile = pseudo_form_profile(motifs[:j+1])\n",
    "            motifs.append(profile_most_probable_kmer(chunk, k, profile))\n",
    "        if score_motifs(motifs) < score_motifs(best_motifs):\n",
    "            best_motifs = motifs\n",
    "    return best_motifs"
   ]
  },
  {
   "cell_type": "code",
   "execution_count": 82,
   "metadata": {},
   "outputs": [],
   "source": [
    "k = 3\n",
    "t = 5\n",
    "dna = [\n",
    "    'GGCGTTCAGGCA',\n",
    "    'AAGAATCAGTCA',\n",
    "    'CAAGGAGTTCGC',\n",
    "    'CACGTCAATCAC',\n",
    "    'CAATAATATTCG',\n",
    "]\n",
    "sample_in = (dna, k, t)\n",
    "sample_out = ['TTC', 'ATC', 'TTC', 'ATC', 'TTC']"
   ]
  },
  {
   "cell_type": "code",
   "execution_count": 83,
   "metadata": {},
   "outputs": [],
   "source": [
    "assert pseudo_greedy_motif_search(*sample_in) == sample_out"
   ]
  },
  {
   "cell_type": "code",
   "execution_count": 85,
   "metadata": {},
   "outputs": [],
   "source": [
    "k = 12\n",
    "t = 25\n",
    "dna_ = \"\"\"\n",
    "TCGGCTATGATCTCCCACACCTACGCCTAGTCACTGGCATCGCGTTCCATGCACGCGCTGCTTAACCTCTGCATTTGAGAGCTAATAAAGCCAAGCGTGCTCCTATCCGTAGGGCTTCAGCGTTGTGCCGCGGAAAAGGCCGCTTACCCGCTTCTT\n",
    "TGGTAGCGTGGAGGAATCCCTAAACGGGTTCAAAACTAGGGGAAGAGATCGTGCTGGCCGGTGTAACTCTCAGCTGGACCGTCAATCTGTGTGCTATTCGGAAAAACATGGTAGTTGGGTGTACTGTTACGTCGGGATTCGCCGGATGCCCCGGTG\n",
    "TTGGAGCGGCTGGCATCTACGTATATTCGGATTCTCGGATTTGATCTTAAGTAATACCCTAGATTACAAATGGCCATGCGCCAGCGTCAAAGTCCGCAAATAGAAAGTGTGGAATGAAAGGTTTGACTTGGGTGTACAGTATTCATCTGAGCTCTA\n",
    "AATGGACGAGGGATCTTGATAGAACAACTCGCCAGTGCTATGGGCCGACAGAGAAGGTACATTTGAGGTCTAATTAGGTGGAGAACGTCCAGACTCAGCACTTAAGACCAAGACAAGAACCATTCGCAAGCGACTCCTGCCATCATAGCGCCTAAG\n",
    "TTCAATATAATTGATCCGGCGCGGATTCTTCTACCAGGACAAGGCTGAGGCAGCATAAAGTACACGCTAACCTACGACTTGGCCTCTTCCGGATGCATCTGTGCCCTAAATGGTCTATCGATAGAACTTTCTGTCACACATTGTTCGATGCTTATT\n",
    "ATTTGGCGTGGCCTGAAACCACAACGTGGTTTGACTGTCTTATCAGTTCGATTAGTGTGTGTAACCGCACGAACTTCATTTCAAGTCGGCCGCACATAGGACCTAGGTTCACTGAGCTTGTATAATCTAGTAACCCTCACAGTTATTTGAGGTCTA\n",
    "AGGTCTGTGAAGACCGTACCGATAAGTTGCCACGTTACTCTCACTTTAAGGCTCATAAGGCACAGGCGGAATCTGCGGACAACCGGAACTCCCCAGAGGCCCTTGGCGATGTGAGACCTAATAACGTGCGCATGCGGCTTCCGATTTAGGGCGGCG\n",
    "AGATTTCGGATCCGCACCAAGTAAGCCGCAATTAGCTATATCACCGCTATATGTGGGCTAGATGGATGGAGCATGACCGGACCTCAGTTTACCAACGAAGAGTAGTTCTCTACTAAGCAACTCTTCGTTGACCGTCTCTACTTCTATACTAGGGGA\n",
    "TGCGAAACACGTTGGTGATAACCAGTTTGCTTGAATATGCTGTAATTGCATCGGTTGGGACCGTTCAGAGAAATGCAAGAAAATTTTCATACAACCCCGGCCCGGAGCGAATACAACGATGTTCGTGTACAAATATGGGAACTAAAGGGGATACGT\n",
    "TGGCTCTCGGGAATCTGCGAACTACTATTGCAACCCCTACGCGTAGTACCTTCAACGCTTAATAGTTCCACAATATTAGCAAAAGTTCCTAATTTGCATGGTTCTAAGCTATGCATCGCCTCTGATAACTCTTTTCGTGTGCGGGATTCCCTCCAC\n",
    "ACTTCTGGTCCGCTACTTGAGTTGTTAGGGGCCGTTTGAAATCAAGAAATAAAGATGGTGGCAGTCGGATGCCAGTGATGACCCATTTGCGCACTAGGTTCGCGCGCATAATTTTAATACACGGATTCTCGGATTAGGGTGGTAGCAACTACTGCA\n",
    "GACCTGCTATTTCTCAGCCACCGTCTTGATTATCCTTACGGGACATCGGGCGAAGATAGATGTCCGTGAACGGTACTTGTACGTGACGTTCCACCTAACTAGATCAGACCGGACTATCCATCACAAGCATATATGTGTGAACTATTTCATTATAGA\n",
    "CGCAGGAGACTCTGTCCTCTCCATTCTGACTCAACTCCGTTTCTGATGATGTGGGATCTAAGTAGGAGTGATAAGGTTTCGGCTCAATACGCTACGTGCCCGGCCATTAATAAGCGTGTGCTGAACAGCCCGTCTAAGGTAGACTTGGTTGGTTAT\n",
    "ATGTGAGCCCTACTCGCAGTTGTTGGGATGCAGAACGACCCTAAAAACAGAGGTGACCGAGAGCCGGACCTTGGGGTTGTTTCGGGCGTCCATGCGTGCACAAGTCCATGTCAATCTATTTTCGGCGTATGCTCCCCGCAACTGCATTCATTACCG\n",
    "ACTAGCTAGGAGGTGTGCATCCCCGAGAACATGTAAAACTCATTCGACTCGAAGTGCTTATAGTTCTCGGAACTGGCTGTCATGTCCACGCAATGTATGTGCGCGCTAAGGATATACCCTGTACGGGCACAGGTGCAGGATCATTATTATAGAGTA\n",
    "ACCAATTGAACCGAACCGAGGCGCGATCCTGTCTTGATGTGGGTTCTAGACCATCGCCACGATTTGATGTTTCTAGGTCAATCCCTGAACAACCCGAGGGCCAAGGGCAAGCTCGTACTAAGATGGCTCGATCCCAGTAACTAAACTAATCACCGT\n",
    "CCGCATCCCCTTCAGGGTGTGGCCGATCTATACGTGCTAGCAACAGGGCTAGTATTAGAAACCCAAGCCCTTATGTGTGGCCTAAGCATTGGCGCGCGATCTCCACTTATGCCTTGTGAGGACGGGGTAAAATGGACGGGGTATAGCTGGATACAT\n",
    "CTAGGCACTTGGTCTTGAGTGAGCACCTGATCGAGCTCAATTTATCCATCGCCGACGCCAGATGTTCAACCAATGTTGAGCCACCCCTATGCTCATATTGTGGTCCTAATTTGAGGACTACAGCTACCGCAGTCCGTTAACAGGTGAGTGCAAGAA\n",
    "CAAGGCACCTCTATAATCACCCATAACATGTGAGTTATCTGTGGTCTAAAGAAATTTTGCCGATTTGACCCTCACTTTCGAATAGAAGATTGTGGCGATCCCAGTATCTCTAGAACGAGCCGTGCAAAACGTTTCCATACAGTGCAGGAGTTGTAC\n",
    "GCGCCCACTTCATTATTTGAGCGTATTTTTACCCCGGACAGACATGAGTGGGGACATATTGTATGGAATATTCCACTCTTACAGCCCTGCAATTATCCGAAGATGATGATCTGTGTACTAGACATTATCAGGGATTTAGACTGACTTCCCTACCAA\n",
    "ATATGAGCTCTAGAATTCACAAAGAACCTCCGAACTGGTTGGGTCGCAGTAGGATGATGACTTTCGAAAAGCACAATGGCTCGCTGTCGAATACCTACATGAGAATCTGCATTAGCGCTCCCAGACCGCCCGACACCGGCCCGCTGGACGCGTTAC\n",
    "GGAATGTCCTACATGTTAGGGTCGCTCTTTACGCTGGTCGGGGAGGTAATGTGTGGACTAACGACGGTAGGAAACTCTTTCCCCTGCCACGGCTCCATGGTACAAATTAATTTCAGTAAGAGTAGTATGCGGCTTAATCAAGTAGTTGTTCAGAGA\n",
    "CATACGGCGCTAATAACGACCGGTTATAGTCAACGGAGAATCATCACTAAGGAGATACGTCCAGATTTCCACATAGGAGTCTCATCTCGCGATGACATGGCATATCTAAAGCCTCGAGTCGCAGTCCTTTTCATGTGTGTACTAGTCGAACCCCTC\n",
    "CCGGGCATTTCCTGTCTTCCCCCACCACCGGCAGCATTAGCACTAGCGTAACAGTGACTGTACGAAGCCGGTATTAGAAATAGAAAAGTACTAGCCCTGCAGTGCGGAATCTGTGCCCTATTTCCGCACCCATAGCCATAGAAGGGCTGCAATGAA\n",
    "CAGGTAGAACTAGTATGTATTACCCGTTTAATGTCCTAAACAGTGACGATCCCGCTGTGAGGTCTCAACATCATCTGGGCACTACCTGTAGAAGTAGGAATGGTCTCCTGGGAGGGGACGGAGCTAAACCTTCCCTTACCGCCCACCACACGATAT\n",
    "\"\"\"\n",
    "dna = [line for line in dna_.split('\\n') if line]\n",
    "result = pseudo_greedy_motif_search(dna, k, t)"
   ]
  },
  {
   "cell_type": "code",
   "execution_count": 86,
   "metadata": {},
   "outputs": [
    {
     "name": "stdout",
     "output_type": "stream",
     "text": [
      "ATTTGAGAGCTA\n",
      "ATCTGTGTGCTA\n",
      "ATCTGAGCTCTA\n",
      "ATTTGAGGTCTA\n",
      "ATCTGTGCCCTA\n",
      "ATTTGAGGTCTA\n",
      "ATGTGAGACCTA\n",
      "ATATGTGGGCTA\n",
      "ATATGGGAACTA\n",
      "ATCTGCGAACTA\n",
      "ATTTGCGCACTA\n",
      "ATGTGTGAACTA\n",
      "ATGTGGGATCTA\n",
      "ATGTGAGCCCTA\n",
      "ATGTGCGCGCTA\n",
      "ATGTGGGTTCTA\n",
      "ATGTGTGGCCTA\n",
      "ATTTGAGGACTA\n",
      "ATCTGTGGTCTA\n",
      "ATCTGTGTACTA\n",
      "ATATGAGCTCTA\n",
      "ATGTGTGGACTA\n",
      "ATGTGTGTACTA\n",
      "ATCTGTGCCCTA\n",
      "ATCTGGGCACTA\n"
     ]
    }
   ],
   "source": [
    "print('\\n'.join(result))"
   ]
  },
  {
   "cell_type": "markdown",
   "metadata": {},
   "source": [
    "---"
   ]
  }
 ],
 "metadata": {
  "kernelspec": {
   "display_name": "Python 3",
   "language": "python",
   "name": "python3"
  },
  "language_info": {
   "codemirror_mode": {
    "name": "ipython",
    "version": 3
   },
   "file_extension": ".py",
   "mimetype": "text/x-python",
   "name": "python",
   "nbconvert_exporter": "python",
   "pygments_lexer": "ipython3",
   "version": "3.6.5"
  }
 },
 "nbformat": 4,
 "nbformat_minor": 2
}
