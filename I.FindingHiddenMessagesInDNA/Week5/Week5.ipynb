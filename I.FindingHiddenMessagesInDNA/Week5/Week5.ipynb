{
 "cells": [
  {
   "cell_type": "code",
   "execution_count": 1,
   "metadata": {},
   "outputs": [],
   "source": [
    "from Bio import SeqIO"
   ]
  },
  {
   "cell_type": "code",
   "execution_count": 2,
   "metadata": {},
   "outputs": [],
   "source": [
    "data = list()\n",
    "for record in SeqIO.parse('upstream250.txt', 'fasta'):\n",
    "    data.append(record.seq)"
   ]
  },
  {
   "cell_type": "markdown",
   "metadata": {},
   "source": [
    "---\n",
    "    Mycobacterium tuberculosis (MTB) can persist in a latent state in humans for many years before causing disease. Latency has been found to be linked to hypoxia (lack of oxygen) in the host. You suspect that genes that are activated in hypoxia are regulated by a common transcription factor, so you collect the upstream sequences for all of the MTB genes that are upregulated in hypoxia, looking for the motif that corresponds to the binding site for the transcription factor regulating these genes. Your biologist colleague tells you that you should look at the 250 bp upstream region of each gene (which have been conveniently compiled for you in a FASTA file named upstream250.txt -- right click and download this file). Your colleague also tells you that the motif is probably about 20 bp long.\n",
    "\n",
    "---"
   ]
  },
  {
   "cell_type": "code",
   "execution_count": 3,
   "metadata": {},
   "outputs": [
    {
     "name": "stdout",
     "output_type": "stream",
     "text": [
      "TGTTTTTAGCGCCCA\n",
      "CGCCTTTAGCGCAGA\n",
      "CGCTGCTTCTGCAGA\n",
      "CGCCATTAGCGCAGA\n",
      "GAATGCTAGCGCAGA\n",
      "ATCTGCTAGCGCAGC\n",
      "CGCTGCACACGCAGA\n",
      "CGCTAGCAGCGCAGA\n",
      "CGCTGCCTCCGCAGA\n",
      "CGTCCCTAGCGCAGA\n",
      "CGCTGCTAGCGTCTA\n",
      "GGCTGCTAGCGCAAG\n",
      "CGCTGCTAGCAAGGA\n",
      "CTACGCTAGCGCAGA\n",
      "CGCTTGCAGCGCAGA\n",
      "CGCTGCTACTTCAGA\n",
      "CGCTGCTAGCGCCAG\n",
      "CGCTGGGGGCGCAGA\n",
      "CGCTGTGTGCGCAGA\n",
      "CGCTGCTAGGATAGA\n",
      "CCA CCT CTT TTT\n"
     ]
    }
   ],
   "source": [
    "from week4 import gibbs_sampler"
   ]
  },
  {
   "cell_type": "code",
   "execution_count": 4,
   "metadata": {},
   "outputs": [],
   "source": [
    "k = 20\n",
    "t = len(data)\n",
    "dna = [str(d) for d in data]"
   ]
  },
  {
   "cell_type": "code",
   "execution_count": null,
   "metadata": {},
   "outputs": [],
   "source": [
    "result = gibbs_sampler(dna, k, t, 100)"
   ]
  },
  {
   "cell_type": "code",
   "execution_count": null,
   "metadata": {},
   "outputs": [],
   "source": [
    "print('\\n'.join(result))"
   ]
  },
  {
   "cell_type": "markdown",
   "metadata": {},
   "source": [
    "---"
   ]
  }
 ],
 "metadata": {
  "kernelspec": {
   "display_name": "Python 3",
   "language": "python",
   "name": "python3"
  },
  "language_info": {
   "codemirror_mode": {
    "name": "ipython",
    "version": 3
   },
   "file_extension": ".py",
   "mimetype": "text/x-python",
   "name": "python",
   "nbconvert_exporter": "python",
   "pygments_lexer": "ipython3",
   "version": "3.6.5"
  }
 },
 "nbformat": 4,
 "nbformat_minor": 2
}
