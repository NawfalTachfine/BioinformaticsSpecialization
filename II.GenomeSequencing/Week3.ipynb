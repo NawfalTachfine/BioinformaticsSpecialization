{
 "cells": [
  {
   "cell_type": "markdown",
   "metadata": {},
   "source": [
    "## Protein Translation Problem"
   ]
  },
  {
   "cell_type": "code",
   "execution_count": null,
   "metadata": {},
   "outputs": [],
   "source": [
    "with open('data/RNA_codon_table_1.txt', 'r') as reference_file:\n",
    "    codons = [line.strip().split(' ') for line in reference_file.readlines()]"
   ]
  },
  {
   "cell_type": "code",
   "execution_count": null,
   "metadata": {},
   "outputs": [],
   "source": [
    "CODON_TABLE = {\n",
    "    codon[0]: (codon[1] if len(codon) > 1 else '')\n",
    "    for codon in codons\n",
    "}"
   ]
  },
  {
   "cell_type": "code",
   "execution_count": null,
   "metadata": {},
   "outputs": [],
   "source": [
    "len(CODON_TABLE)"
   ]
  },
  {
   "cell_type": "code",
   "execution_count": null,
   "metadata": {},
   "outputs": [],
   "source": [
    "sample_input = 'AUGGCCAUGGCGCCCAGAACUGAGAUCAAUAGUACCCGUAUUAACGGGUGA'\n",
    "sample_output = 'MAMAPRTEINSTRING'"
   ]
  },
  {
   "cell_type": "code",
   "execution_count": null,
   "metadata": {},
   "outputs": [],
   "source": [
    "def protein_translation(rna):\n",
    "    codons = [rna[i:i+3] for i in range(0, len(rna)-3+1, 3)]\n",
    "    amino_acids = [CODON_TABLE[codon] for codon in codons]\n",
    "    return ''.join(amino_acids)"
   ]
  },
  {
   "cell_type": "code",
   "execution_count": null,
   "metadata": {},
   "outputs": [],
   "source": [
    "assert sample_output.strip() == protein_translation(sample_input)"
   ]
  },
  {
   "cell_type": "code",
   "execution_count": null,
   "metadata": {},
   "outputs": [],
   "source": [
    "# open('data/dataset_96_4.txt', 'r')"
   ]
  },
  {
   "cell_type": "markdown",
   "metadata": {},
   "source": [
    "---\n",
    "## Peptide Encoding Problem"
   ]
  },
  {
   "cell_type": "code",
   "execution_count": null,
   "metadata": {},
   "outputs": [],
   "source": [
    "reverse_bases = {'A':'U', 'U':'A', 'G':'C', 'C':'G'}"
   ]
  },
  {
   "cell_type": "code",
   "execution_count": null,
   "metadata": {},
   "outputs": [],
   "source": [
    "sample_dna = 'ATGGCCATGGCCCCCAGAACTGAGATCAATAGTACCCGTATTAACGGGTGA'\n",
    "sample_peptide = 'MA'\n",
    "sample_output = [\n",
    "    'ATGGCC',\n",
    "    'GGCCAT',\n",
    "    'ATGGCC',\n",
    "]"
   ]
  },
  {
   "cell_type": "code",
   "execution_count": null,
   "metadata": {},
   "outputs": [],
   "source": [
    "def dna_to_rna(dna):\n",
    "    rna = ['U' if base == 'T' else base for base in dna]\n",
    "    return ''.join(rna)"
   ]
  },
  {
   "cell_type": "code",
   "execution_count": null,
   "metadata": {},
   "outputs": [],
   "source": [
    "def reverse(rna):\n",
    "    return ''.join([reverse_bases[base] for base in rna[::-1]])"
   ]
  },
  {
   "cell_type": "code",
   "execution_count": null,
   "metadata": {},
   "outputs": [],
   "source": [
    "def encode_peptide(peptide, dna):\n",
    "    k = len(peptide) * 3\n",
    "    kmers = [dna[i: i + k] for i in range(len(dna) - k + 1)]\n",
    "    results = list()\n",
    "    for kmer in kmers:\n",
    "        rna = dna_to_rna(kmer)\n",
    "        if protein_translation(rna) == peptide or protein_translation(reverse(rna)) == peptide:\n",
    "            results.append(kmer)\n",
    "    return results"
   ]
  },
  {
   "cell_type": "code",
   "execution_count": null,
   "metadata": {},
   "outputs": [],
   "source": [
    "assert sorted(sample_output) == sorted(encode_peptide(sample_peptide, sample_dna))"
   ]
  },
  {
   "cell_type": "code",
   "execution_count": null,
   "metadata": {},
   "outputs": [],
   "source": [
    "test_file = 'data/dataset_96_7.txt'\n",
    "test_dna = 'AACAAAGTCGCGGAAACTCAATGGCTGCTTACGGATCCCAGAAACTGGATCCTTTGTATTAAGCTGGAACTTTGCATAGACCGCTATTTCGTCCATCGGGGATTGCATTCTGAGGTACCGAACCTCCAATGGCAAGAAGCATATCGGCGTCGCCTTTTATCCACCGTACTGCCCTACCGCTGATGGTAGCAAGGTAGGCTGTGCTGGCGTTACATTCGCGATATTAAGTAGATATATGAAACAACGCTTACTAGCAGCTGTATTTATCGCTTATCTCGCGGACTCAAATAGTAAGTCGCTCCAGCTCCTAGGGGGGACGATACAAGGATCTAAAAACGTCCGTTGTTCCTTAACGTGTTACCTGCCGCTCTCACCATGATCTGAGTCACTCCGGCTATCGACTGGAGGCCCCTGCACTCCGAAGTACCTAACTAGGTTTGGCACCTCCGAGTGCAAGCGGTATGGATAATGTTCATAAGACCCGACACGATCCCGAGACCTAACGAGTATCGGTATCGCCTGTACACCTTTGACTAGGTTATAAGGGACCATGCGCTCTCGAACGTATTCCAGGATTATAGGATCTGGTACTCCTGTATGAAATACTCTTAGGCCTGGCTACTTCTGGGACGGGAGGTGAGCTTACCGACGGGAATGGGAAACCCCCTCAAACTACAAGGCGTTAGTCCCCACGGAAGGCAAATGGAGCACAGGGATGCCCTCCGATCTCACATGCCTACAGGCCTTGGTTACGCTGCATCTGGTATCTTATCCTGTTACAGCGACCCCGGGGTCATCAAGGGTTCGTCGCGTCGTAGTCTTGATAGATAGGTGCAAGCGCGGTAATTGTGGGAAGAATTCGCCTTGGTGCGGAGATCCGCCGGGTCCTCCCGGGAGAGGTAATCCGGGCCTGTCCCGACGCGTTGTGGACGTCCAGGCAATGTTTTTCACGCTTATTGCGCAACCACCCCTAAGGCTCGGGCTTTACTTCTTAGGCGAGGAAGTTGGAACCACCGCAAGTTATTTTTTGCAGCACAACGAGGAATAAATACTGGCGGGTTCCTACACCACTATGTGGCCCTCGCAACTTACCAAATGAATACTTGCTGGCGTAGATTTCTCTGAGCTGGGTTCTAACCAAGTCTGTGGGATCTAGACGTAAGACAGACATGACCCTTATTGAGGAAGAAGTTCCTGTCTTCTGATTGTTGACGCACTTTTACCAAAGGCGCCGCCAGAACTGTCCCATAAATCAGCTCTTGCATGCCCAGTCAGCCATCTGCTTAAAGCCGAAGTCCCAATCACTCAAGCTTAACGAGATCCGCCCCGCTTCATTGAAGCTATGATGCTTGCATATCCCGTCTGGCAGTTCTTGCCATCTCCATGTTGTGGTGCAGGTACTACCATTCACAACAATGTTACGGCGCCATGGCGGGCCTATACTGGCCAGTATCACACCTTCATTCAGAAGTTCCAAACCTGTTCATATGCTAGCAGCGCGGAGTGAGCTATCGGGATTAATCAACCTACGCTTGACCGTTTGCAAGTCGATGCCCGTCGGTGGTAACCAAAGTTGCGAGCTCGTATGCTACCAATATCAATCAGTCCTTGCACGTGGATTCGGCATCACTAAGTTGGGCACCTCCGAATGAAGCGAGTACAGCTCTTCTAAACGGGGACACTGAGGACGATGTCAAGGGCGTTACCGACGCTACACACTGTCCGTACTCTCACCTCAATTTCCTTTATCCTATGTGCTGTAGACGTTATGTTGGCGATACTACCGATGCTCACCTTTCCGGTGCCGGCGATAGCGTACTCATTTCATTTATAGCAAGAACTAACGATCCGCCACTGATGCGTAATTGGTGATCGATTGTCAATTTGCCTAAGTTCAACACCCTGCCTACGCCGCCCGTGAGATAACCAGGAGTTCTCTCCCCGGCTTGATCATTCGAATTGCATAACGTGTTGCCGTGTTCACGATGATTCTGGACTAAATTAGGTACCTCGCTGTGTAACCCTCCCGCAACCAATTTCGGGATCGTAGCGGTACGACGAGTCGGTGGCTTCAAAGGCTATCCGGAATGGTGTGAACCTAGGTCGCTACTTCCCCCATACTCTCCAGTTGACTTAATCAGTGTTGCGTACATAGTACGCGCCAAGTCTTTTTCAGGAAGCGGAGGGAATTAACCATGCGTACCGCACTATCCGGATATTGGGAGGATCCAGCGCATGAAGTAAACTGAGACTCCTGTACTAGAGGAATGCCCAGCTGAGGGTTTTGACCATCAGCGCAGACGGACAGCGGACTTCGTAACACTTGATTGTTAGGCACCAGTGAGGAATGGATATCTGCCGCACTAGTCTCTCGCACACAGTCCTGTCCGTTGCGGCCACTTCTATCGTCTTCTATAGTATCTGCATTCGGAAGTCCCAAACTTAAGAAACTTCGAGTTCATTGGTAAGTGGAGATACCCCCACGCCGGGCACTACTATTATTAACCGTCGAACAAGTTAGTCTACTCACGTTTTAGCGATCAGACTCGTCGTGAAAATCTACCATGAGTAGATTGGATTCATACAGAATACAAGTCCTCTGCAACCGGCGGCCCTTTATGGCCTGTATTGCAGCTTCACTCTGAGGTGCCTAACTTGAGACTGTTTAAAGGCGCGTCCTTCCACGGCACGGGAGGAGAGGCGTCTTGACGCCCCGAGTGCGCCGGGTATGAGGAGCCGGACGAGAATTGGCGGCTCAGACTCGAAATTGATTCTTCGCCGTGTCTCTTTTCTGAAGTAAACATATCCCTGCTAGAAATGCCAATGTTGGGGTAGGACAGCTGGCTGCATCACTGTATTTGCATTCCGAAGTGCCCAACTTGATGGGTGCAGAGTTTGCGATGAGGACTCACCAGGGCGGAATTCCAGTCGGCGACGAGCTTACATAGCGAGGTGCCGAATCTGGCATCATTAATGTTAGCGTCGGCTTGGTGTCAACTGACATACGAGTTCCGCGAGACGGAAGATCGGGAGGTTCAGGCGGAGCATTTCATCCAGGGAAAAAACTTTGCACCCCGACACTGAAAATCAAAGTAACTGCTTACTTTCTTTCCGCTTGATGGCATCCCACTTATTAATCTGTCCTAATGGGGTCTCATAGAGCCCGACACGAACTTAATCCATGTGTTAGACGCTCGGACTAGGCAGGATAGCGATTCGTCGTCATATGCGTGTGCTAAGTCTTTCAGATTCGGCACCTCGGAATGCAGGACCATAAAGCGGACAGGCACGGGCGGTGGGTTATTCATGTGCTAGAAGGGACGTGGTCGACGGCGGATGTGTAACTTGCCGTGTTCAGTGTACAAAGTCTAGTTAGACCCAACATGGATCTCACCTTGACCAGCTATTCACGGGAATATTAGCGATTCGTACTCGTTACACCGCCTTTCTAAATAGCCCGAGGCACTAATGCCCAGAGGTAACCTGTTAATTGGGGGCCAGCAATGAGCGTAGAATCTAATCGGTACTCTCTCCGTTTCGGCCAGATTTCGAGGGTCTCGGGGTTTAGAGTCTGTATCACAGTCTATCGGCATGAACTGAGGGCCCGTGGTGGCGGAACCATTATGGCGTACGCCTATAATCCAAAAAAAAACGCTCTTTCTCTCCGGAATTTCGTAATATCGGGATGTCCATGGGCACGTTTATGGCCGTTTGTTGGTATGGTAGGTACTAGTGCGCGAGCGTCCCCGTTCGAAATCCCACATTCTAGGGCACGCTTCCGCAGCTAAGAGATCCCTGTGCAGTGCCAGCTCAGCTAACTAAGTGCTATCCATCCGAGGCCCGCCTCTTATAGGGCATATAATCCAACTACCACCGTTTCTCCTTTCGACCCTTCAAGTTACGCTTTTGACACCGCATCGATAACGAACAGTGACTTTCGGTTACTCGCTGACGTTGTTTGACCATGCGCGTGGATGAATAAGTAGGCCAATGGTCTCCCTAGATAGGACTCCATTCGGGTGGTCAGACGCTCGACCCCCCGTATGCGTCGGTACACAAGATGACTCAATTTTAGCCCACGGTTGTCGAAGTACGCAACGAGGGTTACAACTGTGTTGTTTATGATCAGTTATGGTCTGGGGTCCCTAATTAAGCGAATCTAGTTGGCGCACATAACTCGCAGATATGTACAAGCTGGCTTTATGTGTAGCTGTTTTATTAGGATCGGCCTTTCAATAGGTGCTTATCCTACGCTGACCTCAGGGTGGCTCCGTAACGGGCGGCCGCAGGGGAATTTCTGCCCATTTGTTACCACGTGTACCGGACCTTACTGCCTCACGGACCAGCAATCATAGACTTACACTTAGTCCACTTACGGGACGATCATCACCTGAAGAACTCGTTTCGTCACGCAGTCCGGGCCTGTGGCCTGTGATAAGAGACTGCGGAGAGTTGAGGATGGGCTAGCGCCTCATACTCTTGATGGGTGAGGCCAACGGGTTAGCAAGCCCATAGTGACTCGTTGCTGGTGCTGGTTACTTTAGCTAGCATTTTTCGAACAGTATTGCCGAAAGACTAGGAAAGGCGTTAACTAAAGCGGTACATGTTCCAAGAGTTCGTCACAATCCCCGTTGAACCGATCGAGCTTCAACAAACGGATCCAGCTTCCCATGTATGATAGGCGGACGAGGACGATGGCCGATGTCACGAACCCCGAACCGTGCCGCGTGACGGGACGTTGCCTTGCCGTGCGCGAGCAATATGACGTGTCGGCTGCCGTGTTTCATAAGGTAAGTGCCATTCCCGAGCACCGAAGTCGTTGGCGCTGACAATTATTCAGAGATGATCGACGTTGCCATAAATTGACTTAAACAGGCACGGGGATAAGTACGAGGTGAAGTATTATAACTATCTGATGCCCGTTCTAACAGGGTAAAGCCGGCCGTATAAATACGGGAACACTACCATTATCGGATTCCACATGCTCTCATTTCGGCCAATAGCGCTCTCGAGGCGATCCTTTCGTTAAAGTATGTGTCGCTGATCACCGCCCGACCTTTTAAAGCCCCCTGACCTGAGAAAAGACGACTTAATAGGAAATTTCGCGTCTAGTGCCCTCCATCGCAGTGTCCGGCTAAACTCGGTTACATCACCGGTCGGAGAATACAGCATCGACGCACAACAGGCAGTACCCGGTCCTCGTGACACGATTCTTTTTGGTTAGAAAACGCAGCCATTTGGACTTCTATTCAGACGTCCATACACACACAATTTCCGCTTCAGCCGGGACACGCCGTACGCAGGGAAGGGCCACGCCTATCAATATAACGAATAGTAGGGACCTTCGTTTTTAATCGGCCTGAGCGGGTAACTACGCAGTAATGTCCGGTCTAAGACTAACTTCTCGTGCCCCGAATGGGCGTAAATAAAAAGGTGCGAATCGGGCGCACCTATTATTAACTGCTCATGCTAACACCCTTTCCGTAGTTTTACACCACGTCATATGACTGTTTTCGATGCGCAGACTATGAACGACTGTCTGCCTCCGGACTGATACGTCTCGCCAGCCATACAATATCGTAACGCTTGATTGGCAAAAGAGCTAAGACACTTATCGCCGCAGGTAGACGCACGCCGGATTACTTTTTTACACAGTGAAGTTCCAAATCTAGCAACTGAGACCTGTTACGACCGCAAGTCACGACGTGGGGATTTCATCCGACTACGAACGACTGCAAGACAATCTCGACAGAATGTGGGAAGTTCTAGTCTTTAACAGCGAGGAAGTCCTTCATGTCTTCAAAACGAGACTGGTACTTGACGCTTTCCAGGGCCGCTTCTCTTACGTTTTCGCGAGGGAAGTAAAGAATATCTGAGTTGTGGGCATTAAATTGGGCACCTCGGAGTGTAAGTATATGCGGCTCGATCAAATTAGGTACTTCACTGTGTAGTCCGCCTCTGTCAAGTCATTCACGCACGAGCAATGTTTCGCGTGGAGCGAGAAACGCGTATGTGAAGGGCCACATAATCGCGCTTACTTGACCTGCTTTTGATAGACACCGCACGCTGGTCTCCTCCAGCTCTCCACCGAGGGCGGGCTCCCGCAAGGTTCTCGGTTCCCCAGTACCGCTGAAGCTTATTGATAGTGTGCGCCGCTCATCGGTCGAGCCTGGCGAGAAATTATCCATAGGTAATCATTAATGGACCGCCCTCATGCCGGTCAATAACGTACAGCCACGCGGCCCGCAGAGGAATCCTCTACACGTACAGACGACGTCCAGCGACCGAATTCTCCCGTCGGTGAACTATTAAGACCGAGACGATTGCTGGAACGTTATAGACTGTATAGAGAAATCTAAGTTGCGCCATTACAATTGAGTCATGATCAACTTAAACCTTACTATTGGCCGACGACGCGCAGCCCTGATGCATTGGACTCGTACAATCAGAAAGTAAAGTTGGATTCGAAAGTTCGAATCTAGCAACGAGACTGCACTCAGAAGTGCCTAATTTAATCTTTATTGTATTAATACAGGCCCCGACAATCGCCGTTTATTTGGGGCTTGTGTTCCTAGAACTTTGACTTTGATCGACACGTCGCTTAGGCTCCACTCTGAGGTTCCTAACCTCTGTTCCTAGGTTTCGCAGTGTCACCGATTTGTCTTGGATCGTACCTCTGATGTTAAGCAACTACTCGCGTATAGGAGATGCTCATGCTCTTTCCAAAGCAAATCCTGGAAATCGATATGCGACCGAGTCTTGCGCAAACAAAATTTATACGTGCGCGACGTAGGATGCTACCGAATAAGTAAACTCGGGCTTAACCGGTGTGGGGTGCGATGGCATATCTCCGGGGCCAGGGCTCGGGCAGCCAGAGCATTACAACGAAGTAGTTTCAACAGGCCTTGACATGATTTAAACAGCAGGCCACGCATGTATACCTGGGGGGCATAACAAAGGGGTCTCGTTGCCATGGTGGAACTAGACGATATTATCTCCGCGAGCAGGAGTCAGGAGCCACCGTAATGGGCAACAGATCACTCTGTGTTGTCAGAAGTTCACCCATGTGTGACCCGCATTAGGGGATCTAGACGGTGCCTGTTTTGGAGACATTTACGCCGTACTCATTTCTCCCGCGCCCTGGTAAGCCGAATGCGACGCTCAGACTTCGACGTACCGATAAGGGGCAACCTTAGGCCACAAATGACCCGATAAAAGTCAGCAGTTCGCAAGGGTTGGTAGTTGATCGTATCCGTCATAGAGCCCTCGTCGGCTGCTAAGTGTAGAACCACCGACTCTTCGCGTCTGCCCCAGGGCCTTTCATCGCGACCGGTCGTAACACTCCATTGCCAAGAACAACTGCACTAGGTTACGCTAGTTTCATGTACAACGCAATTACGCATCGGGTCTGAGGGCGTCACAGTGATGGCATATATATGCATTTAATTGTTTTTACCAGCAAGATGCGACCAAGACTCTTGAGTCAAAATCTCCTCCGATAAAGCGCGGGGAAGGTCCAACGTTACTTCACTTGCCTCGGCTCCTTTGATATCAATTCGGAGACCCTAGACCTGTGTGCTTAAGTAAGGATGAACACCGTGGAAACCCACACGGCATCACTGAGTCAATGGTGCTCGAAAGAGGAATGACGTGTCTTTCCGCAGGCCGTGCCCGCGCGCCTCTCGCGGTCGATTACGGCAACTACCCGCTGGACTCTCAGCGGGTGGTTACTCTGCTGGGAGGCCCATAGTCGACACCTACTACGATCTCTACACACCGTTTACCGTTTTGTTGATCTGCACAGTGAAGTCCCCAACCTCCTGTTGTAATGCTGGGCGGTCGTACTTCATCAATCCCAATATTACAGCATTGATATCCCACGGCAGACCACCTTAAAGACTAGGAGGCGAGACGCACACAAGAGTTGCTTGCATGGCATGATGTTTACGCTGGCCCAGGGTTTACTGGGACACACTATGTGTTACGATGTGACTCGGCTCACGTTTGCGGGAAGGGGACAGGTACAAGGTGGAGCGCGTTGCATGTCTCCTATGTGTATCGTTATCTGGACCTAATCTTAAATTACCACGCGAGCGTCACTGGGAGGGGCTCATACCCACAGTCGAATTTATCTGACACACCCAGATTTATTGACGTTAATCTGCTCTAATTAGGCAAACAATTCTTCGGATCCCCACACCCACCGCGATGCTAGTTAAGGGACGTTAATTGTGACAAGATGATTCGTAGGTAAGACTCAATTAGCTTACTCCCCACGTGCGCCGTGCCCGAGGCCGCTTAGGTACAATACTGTATGAAATATCTACGCCAACCAAGGCGCTAGTATGCTTGCTGACCGGACTCGCTAGGAAACATTTTGAATTCTTCAGTACATGAAACGCAGCAAACATACTAAGAATAATCTCAAAGACGTGAGATCGTATTACTTCCGACTGCACTCCGAAGTTCCAAATCTTTTTGGAGACGTTCCTCGCTAGCCGGCGCATACTCTGCATACTCCCCTTTGCCACGCGGACCACGTGTTACGGGGCATACCGTGCTTGCCCGAGTAGTACGCCACGCATTTAACGAATAAGGCGGGAACCTAAGGAGATTACGTCCAAGAGGAGGTATGGTAAGCGAATTCGCGTTGAGTCACCATATCGTGTAGTCTCTGCTCAATGGATCCCCAATCGGTGCGTTTTCAGGTCCCTGCACTCCGAGGTGCCAAATTTACGGTTAGCTCGCTTGGAGCCAGGTCTCCTGGACCCCAATTTGCGAACTCACTACACCAGTTAATACTTTGCACAGTGAGGTACCGAACCTCAGACCAGGGGGGCGCCAGGAGGTTTCCTCATAATTGCCATCCTCATCTCTCTGTTCTTGGTAACGGGGCATGACAGGCGAGTAAGCGGGTTAAATGTGATCTTGCCTATTGGCCCTCTCTG'\n",
    "test_peptide = 'LHSEVPNL'\n",
    "test_result = encode_peptide(test_peptide, test_dna)\n",
    "# print('\\n'.join(result))"
   ]
  },
  {
   "cell_type": "code",
   "execution_count": null,
   "metadata": {},
   "outputs": [],
   "source": [
    "with open('data/Bacillus_brevis.txt', 'r') as genome_file:\n",
    "    bacillus_brevis_genome = [line.strip() for line in genome_file.readlines()]"
   ]
  },
  {
   "cell_type": "code",
   "execution_count": null,
   "metadata": {},
   "outputs": [],
   "source": [
    "len(bacillus_brevis_genome)"
   ]
  },
  {
   "cell_type": "code",
   "execution_count": null,
   "metadata": {},
   "outputs": [],
   "source": [
    "tyrocidine_b1 = 'VKLFPWFNQY'"
   ]
  },
  {
   "cell_type": "code",
   "execution_count": null,
   "metadata": {},
   "outputs": [],
   "source": [
    "## result = encode_peptide(tyrocidine_b1, ''.join(bacillus_brevis_genome))"
   ]
  },
  {
   "cell_type": "code",
   "execution_count": null,
   "metadata": {},
   "outputs": [],
   "source": [
    "## len(result)"
   ]
  },
  {
   "cell_type": "markdown",
   "metadata": {},
   "source": [
    "---\n",
    "## The Cyclopeptide Sequencing Problem\n"
   ]
  },
  {
   "cell_type": "code",
   "execution_count": null,
   "metadata": {},
   "outputs": [],
   "source": [
    "from math import factorial\n",
    "\n",
    "def nb_subpeptides(cyclopeptide_length, k=2):\n",
    "    n = cyclopeptide_length\n",
    "    binomial_coeff = factorial(n) / (factorial(k)*factorial(n - k))\n",
    "    return int(k * binomial_coeff)"
   ]
  },
  {
   "cell_type": "code",
   "execution_count": null,
   "metadata": {},
   "outputs": [],
   "source": [
    "assert 980597910 == nb_subpeptides(31315)"
   ]
  },
  {
   "cell_type": "code",
   "execution_count": null,
   "metadata": {},
   "outputs": [],
   "source": [
    "nb_subpeptides(33802)"
   ]
  },
  {
   "cell_type": "markdown",
   "metadata": {},
   "source": [
    "---\n",
    "## Generating Theoretical Spectrum Problem"
   ]
  },
  {
   "cell_type": "code",
   "execution_count": null,
   "metadata": {},
   "outputs": [],
   "source": [
    "from utils import INTEGER_MASSES"
   ]
  },
  {
   "cell_type": "code",
   "execution_count": null,
   "metadata": {},
   "outputs": [],
   "source": [
    "from collections import deque\n",
    "\n",
    "def generate_theoretical_spectrum(cyclic_peptide, integer_masses=INTEGER_MASSES):\n",
    "    peptide = deque(cyclic_peptide)\n",
    "    counter = 0\n",
    "    masses = [('', 0)]\n",
    "    while counter < len(peptide):\n",
    "        amino_acid = ''\n",
    "        mass = 0\n",
    "        peptide_ = list(peptide)\n",
    "        for letter in peptide_[:-1]:\n",
    "            amino_acid += letter\n",
    "            mass += integer_masses[letter]\n",
    "            masses.append((amino_acid, mass))\n",
    "        counter += 1\n",
    "        peptide.rotate()\n",
    "    last_letter = peptide_[-1]\n",
    "    masses.append((amino_acid + last_letter, mass + integer_masses[last_letter]))\n",
    "    return masses"
   ]
  },
  {
   "cell_type": "code",
   "execution_count": null,
   "metadata": {},
   "outputs": [],
   "source": [
    "def display_masses(spectrum):\n",
    "    return ' '.join(map(str, sorted([m for (aa,m) in spectrum])))"
   ]
  },
  {
   "cell_type": "code",
   "execution_count": null,
   "metadata": {},
   "outputs": [],
   "source": [
    "sample_input = 'LEQN'\n",
    "sample_output = '0 113 114 128 129 227 242 242 257 355 356 370 371 484'"
   ]
  },
  {
   "cell_type": "code",
   "execution_count": null,
   "metadata": {},
   "outputs": [],
   "source": [
    "sample_spectrum = generate_theoretical_spectrum(sample_input)\n",
    "assert sample_output == display_masses(sample_spectrum)"
   ]
  },
  {
   "cell_type": "code",
   "execution_count": null,
   "metadata": {},
   "outputs": [],
   "source": [
    "extra_input = 'IAQMLFYCKVATN'\n",
    "extra_output = '0 71 71 99 101 103 113 113 114 128 128 131 147 163 170 172 184 199 215 227 227 231 244 259 260 266 271 286 298 298 310 312 328 330 330 372 385 391 394 399 399 399 401 413 423 426 443 443 470 493 498 502 513 519 526 527 541 554 556 557 564 569 590 598 616 626 640 654 657 658 665 670 682 697 697 703 711 729 729 753 753 771 779 785 785 800 812 817 824 825 828 842 856 866 884 892 913 918 925 926 928 941 955 956 963 969 980 984 989 1012 1039 1039 1056 1059 1069 1081 1083 1083 1083 1088 1091 1097 1110 1152 1152 1154 1170 1172 1184 1184 1196 1211 1216 1222 1223 1238 1251 1255 1255 1267 1283 1298 1310 1312 1319 1335 1351 1354 1354 1368 1369 1369 1379 1381 1383 1411 1411 1482'"
   ]
  },
  {
   "cell_type": "code",
   "execution_count": null,
   "metadata": {},
   "outputs": [],
   "source": [
    "extra_spectrum = generate_theoretical_spectrum(extra_input)\n",
    "assert extra_output == display_masses(extra_spectrum)"
   ]
  },
  {
   "cell_type": "code",
   "execution_count": null,
   "metadata": {},
   "outputs": [],
   "source": [
    "test_peptide = 'CATMPQCWQAKMMHW'\n",
    "test_spectrum = generate_theoretical_spectrum(test_peptide)"
   ]
  },
  {
   "cell_type": "code",
   "execution_count": null,
   "metadata": {},
   "outputs": [],
   "source": [
    "# 'data/dataset_98_4.txt'\n",
    "print(display_masses(test_spectrum))"
   ]
  },
  {
   "cell_type": "markdown",
   "metadata": {},
   "source": [
    "--- \n",
    "## Counting Peptides with Given Mass Problem"
   ]
  },
  {
   "cell_type": "code",
   "execution_count": null,
   "metadata": {},
   "outputs": [],
   "source": [
    "from collections import defaultdict\n",
    "\n",
    "def nb_linear_peptides(parent_mass):\n",
    "    masses = set(INTEGER_MASSES.values())\n",
    "    to_expand = [(0, [])]\n",
    "    win_counts = defaultdict(int)\n",
    "    nb_wins = 0\n",
    "    losers = set()\n",
    "    winners = set()\n",
    "    while to_expand:\n",
    "        current, history = to_expand.pop()\n",
    "        if current in winners:\n",
    "            nb_wins += 1\n",
    "            continue\n",
    "        for mass in masses:\n",
    "            new = current + mass\n",
    "            if new in losers:\n",
    "                continue\n",
    "            if new in winners:\n",
    "                nb_wins += 1\n",
    "                continue\n",
    "            if new == parent_mass:\n",
    "                nb_wins += 1\n",
    "                winners.update(history + [current])\n",
    "                continue\n",
    "            if new < parent_mass:\n",
    "                to_expand.append((new, history + [current]))\n",
    "                continue\n",
    "            losers.add(new)\n",
    "    return nb_wins  "
   ]
  },
  {
   "cell_type": "code",
   "execution_count": null,
   "metadata": {},
   "outputs": [],
   "source": [
    "sample_input = 1024\n",
    "sample_output = 14712706211"
   ]
  },
  {
   "cell_type": "code",
   "execution_count": null,
   "metadata": {},
   "outputs": [],
   "source": [
    "## %time sample_result = nb_linear_peptides(sample_input)"
   ]
  },
  {
   "cell_type": "code",
   "execution_count": null,
   "metadata": {},
   "outputs": [],
   "source": [
    "## assert sample_result == sample_output"
   ]
  },
  {
   "cell_type": "code",
   "execution_count": null,
   "metadata": {},
   "outputs": [],
   "source": [
    "extra_input = 1307\n",
    "extra_output = 34544458837656"
   ]
  },
  {
   "cell_type": "code",
   "execution_count": null,
   "metadata": {},
   "outputs": [],
   "source": [
    "## extra_result = nb_linear_peptides(extra_input)"
   ]
  },
  {
   "cell_type": "code",
   "execution_count": null,
   "metadata": {},
   "outputs": [],
   "source": [
    "## assert extra_result == extra_output"
   ]
  },
  {
   "cell_type": "markdown",
   "metadata": {},
   "source": [
    "--- \n",
    "## Cyclopeptide Sequencing using a Branch-and-Bound Algorithm"
   ]
  },
  {
   "cell_type": "code",
   "execution_count": null,
   "metadata": {},
   "outputs": [],
   "source": [
    "from collections import deque\n",
    "\n",
    "def cyclospectrum(cyclic_peptide_masses):\n",
    "    peptide = deque(cyclic_peptide_masses)\n",
    "    counter = 0\n",
    "    spectrum = [0, sum(cyclic_peptide_masses)]\n",
    "    while counter < len(peptide):\n",
    "        mass = 0\n",
    "        peptide_ = list(peptide)\n",
    "        for m in peptide_[:-1]:\n",
    "            mass += m\n",
    "            spectrum.append(mass)\n",
    "        counter += 1\n",
    "        peptide.rotate()\n",
    "    return sorted(spectrum)"
   ]
  },
  {
   "cell_type": "code",
   "execution_count": null,
   "metadata": {},
   "outputs": [],
   "source": [
    "from collections import Counter\n",
    "\n",
    "def is_consistent(small, big):\n",
    "    if (set(big) < set(small)):\n",
    "        return False\n",
    "    small_counter = Counter(small)\n",
    "    big_counter = Counter(big)\n",
    "    count_checks = [\n",
    "        (small_count <= big_counter[item]) \n",
    "        for item, small_count in small_counter.items()\n",
    "    ]\n",
    "    return all(count_checks)"
   ]
  },
  {
   "cell_type": "markdown",
   "metadata": {},
   "source": [
    "    CyclopeptideSequencing(Spectrum)\n",
    "        CandidatePeptides ← a set containing only the empty peptide\n",
    "        FinalPeptides ← empty list of strings\n",
    "        while CandidatePeptides is nonempty\n",
    "            CandidatePeptides ← Expand(CandidatePeptides)\n",
    "            for each peptide Peptide in CandidatePeptides\n",
    "                if Mass(Peptide) = ParentMass(Spectrum)\n",
    "                    if Cyclospectrum(Peptide) = Spectrum and Peptide is not in ﻿FinalPeptides\n",
    "                        append Peptide to FinalPeptides\n",
    "                    remove Peptide from CandidatePeptides\n",
    "                else if Peptide is not consistent with Spectrum\n",
    "                    remove Peptide from CandidatePeptides\n",
    "        return FinalPeptides"
   ]
  },
  {
   "cell_type": "code",
   "execution_count": null,
   "metadata": {},
   "outputs": [],
   "source": [
    "def cyclopeptide_sequencing(experimental_spectrum):\n",
    "    masses = set(INTEGER_MASSES.values())\n",
    "    masses.intersection_update(experimental_spectrum)\n",
    "    parent_mass = max(experimental_spectrum)\n",
    "    candidate_peptides = [[0, m] for m in masses if m <= parent_mass]\n",
    "    final_peptides = []\n",
    "    while candidate_peptides:\n",
    "        current_candidate = candidate_peptides.pop()\n",
    "        current_expansion = [\n",
    "            current_candidate + [amino_acid]\n",
    "            for amino_acid in masses\n",
    "        ]\n",
    "        for peptide in current_expansion:\n",
    "            if sum(peptide) == parent_mass:\n",
    "                if (\n",
    "                    cyclospectrum(peptide[1:]) == experimental_spectrum \n",
    "                    and peptide not in final_peptides\n",
    "                ):\n",
    "                    final_peptides.append(peptide[1:])\n",
    "                continue\n",
    "            if not is_consistent(peptide, experimental_spectrum):\n",
    "                continue\n",
    "            candidate_peptides.append(peptide)\n",
    "    return final_peptides"
   ]
  },
  {
   "cell_type": "code",
   "execution_count": null,
   "metadata": {},
   "outputs": [],
   "source": [
    "def prepare_input(input_):\n",
    "    return list(map(int, input_.split(' ')))\n",
    "\n",
    "def format_output(output_):\n",
    "    return ' '.join(['-'.join(map(str, element)) for element in output_])"
   ]
  },
  {
   "cell_type": "code",
   "execution_count": null,
   "metadata": {},
   "outputs": [],
   "source": [
    "sample_input_ = '0 113 128 186 241 299 314 427'\n",
    "sample_output = '186-128-113 186-113-128 128-186-113 128-113-186 113-186-128 113-128-186'\n",
    "sample_input = prepare_input(sample_input_)\n",
    "\n",
    "sample_result_ = cyclopeptide_sequencing(sample_input)\n",
    "sample_result = format_output(sample_result_)\n",
    "\n",
    "assert sorted(sample_result.split(' ')) == sorted(sample_output.split(' '))"
   ]
  },
  {
   "cell_type": "code",
   "execution_count": null,
   "metadata": {},
   "outputs": [],
   "source": [
    "extra_input_ = '0 71 97 99 103 113 113 114 115 131 137 196 200 202 208 214 226 227 228 240 245 299 311 311 316 327 337 339 340 341 358 408 414 424 429 436 440 442 453 455 471 507 527 537 539 542 551 554 556 566 586 622 638 640 651 653 657 664 669 679 685 735 752 753 754 756 766 777 782 782 794 848 853 865 866 867 879 885 891 893 897 956 962 978 979 980 980 990 994 996 1022 1093'\n",
    "extra_input = prepare_input(extra_input_)\n",
    "extra_output = '103-137-71-131-114-113-113-115-99-97 103-97-99-115-113-113-114-131-71-137 113-113-114-131-71-137-103-97-99-115 113-113-115-99-97-103-137-71-131-114 113-114-131-71-137-103-97-99-115-113 113-115-99-97-103-137-71-131-114-113 114-113-113-115-99-97-103-137-71-131 114-131-71-137-103-97-99-115-113-113 115-113-113-114-131-71-137-103-97-99 115-99-97-103-137-71-131-114-113-113 131-114-113-113-115-99-97-103-137-71 131-71-137-103-97-99-115-113-113-114 137-103-97-99-115-113-113-114-131-71 137-71-131-114-113-113-115-99-97-103 71-131-114-113-113-115-99-97-103-137 71-137-103-97-99-115-113-113-114-131 97-103-137-71-131-114-113-113-115-99 97-99-115-113-113-114-131-71-137-103 99-115-113-113-114-131-71-137-103-97 99-97-103-137-71-131-114-113-113-115'"
   ]
  },
  {
   "cell_type": "code",
   "execution_count": null,
   "metadata": {},
   "outputs": [],
   "source": [
    "%%time\n",
    "## extra_result_ = cyclopeptide_sequencing(extra_input)\n",
    "## extra_result = format_output(extra_result_)"
   ]
  },
  {
   "cell_type": "code",
   "execution_count": null,
   "metadata": {},
   "outputs": [],
   "source": [
    "# assert sorted(extra_result.split(' ')) == sorted(extra_output.split(' '))"
   ]
  },
  {
   "cell_type": "code",
   "execution_count": null,
   "metadata": {},
   "outputs": [],
   "source": [
    "test_input_ = '0 71 71 71 87 99 101 114 114 142 142 172 185 186 200 201 213 228 243 256 271 287 299 300 314 315 327 342 358 370 386 401 413 414 428 429 441 457 472 485 500 515 527 528 542 543 556 586 586 614 614 627 629 641 657 657 657 728'\n",
    "test_input = prepare_input(test_input_)"
   ]
  },
  {
   "cell_type": "code",
   "execution_count": null,
   "metadata": {},
   "outputs": [],
   "source": [
    "%%time\n",
    "## test_result_ = cyclopeptide_sequencing(test_input)"
   ]
  },
  {
   "cell_type": "code",
   "execution_count": null,
   "metadata": {},
   "outputs": [],
   "source": [
    "## test_result = format_output(test_result_)\n",
    "## print(test_result)"
   ]
  },
  {
   "cell_type": "markdown",
   "metadata": {},
   "source": [
    "---"
   ]
  }
 ],
 "metadata": {
  "kernelspec": {
   "display_name": "Python 3",
   "language": "python",
   "name": "python3"
  },
  "language_info": {
   "codemirror_mode": {
    "name": "ipython",
    "version": 3
   },
   "file_extension": ".py",
   "mimetype": "text/x-python",
   "name": "python",
   "nbconvert_exporter": "python",
   "pygments_lexer": "ipython3",
   "version": "3.6.8"
  }
 },
 "nbformat": 4,
 "nbformat_minor": 2
}
