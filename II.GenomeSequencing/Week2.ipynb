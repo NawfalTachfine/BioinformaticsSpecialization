{
 "cells": [
  {
   "cell_type": "markdown",
   "metadata": {},
   "source": [
    "## Eulerian Cycle Problem"
   ]
  },
  {
   "cell_type": "code",
   "execution_count": 23,
   "metadata": {},
   "outputs": [],
   "source": [
    "from collections import defaultdict\n",
    "\n",
    "def build_graph(text):\n",
    "    lines = [line.strip().split(' -> ')  for line in text]\n",
    "    edges = {\n",
    "        line[0]: line[1].split(',')\n",
    "        # int(line[0]): list(map(int, line[1].split(',')))\n",
    "        for line in lines                   \n",
    "    }\n",
    "    return defaultdict(list, edges)"
   ]
  },
  {
   "cell_type": "code",
   "execution_count": 24,
   "metadata": {},
   "outputs": [],
   "source": [
    "from copy import deepcopy\n",
    "from random import choice\n",
    "\n",
    "def random_walk(edges_, start_from=None):\n",
    "    edges = deepcopy(edges_)\n",
    "    start = start_from if start_from else list(edges.keys())[0] # choice(list(edges.keys()))\n",
    "    ends = edges[start]\n",
    "    if len(ends) > 1:\n",
    "        end = ends.pop()\n",
    "    else:\n",
    "        end = edges.pop(start)[0]\n",
    "    walk = [start, end]\n",
    "    stuck = False\n",
    "    while edges and not stuck:\n",
    "        if end in edges:\n",
    "            start = end\n",
    "            ends = edges[start]\n",
    "            if len(ends) > 1:\n",
    "                end = ends.pop()\n",
    "            else:\n",
    "                end = edges.pop(start)[0]\n",
    "            walk.append(end)\n",
    "        else:\n",
    "            stuck = True\n",
    "    return walk, edges"
   ]
  },
  {
   "cell_type": "code",
   "execution_count": 25,
   "metadata": {},
   "outputs": [],
   "source": [
    "from collections import deque\n",
    "\n",
    "def eulerian_cycle(edges): # , start_from=None):\n",
    "    cycle, remaining_edges = random_walk(edges) # , start_from)\n",
    "    while remaining_edges:\n",
    "        new_start = None\n",
    "        cycle_ = deque(cycle[:-1])\n",
    "        for index, node in enumerate(cycle_):\n",
    "            if node in remaining_edges.keys():\n",
    "                new_start = node\n",
    "                break\n",
    "        cycle_.rotate(-index)\n",
    "        new_cycle, remaining_edges = random_walk(remaining_edges, start_from=new_start)\n",
    "        cycle = list(cycle_)  + new_cycle\n",
    "    return cycle\n",
    "\n",
    "def display_cycle(cycle):\n",
    "    return '->'.join(map(str, cycle))"
   ]
  },
  {
   "cell_type": "code",
   "execution_count": 26,
   "metadata": {},
   "outputs": [],
   "source": [
    "sample_input = [\n",
    "    '0 -> 3',\n",
    "    '1 -> 0',\n",
    "    '2 -> 1,6',\n",
    "    '3 -> 2',\n",
    "    '4 -> 2',\n",
    "    '5 -> 4',\n",
    "    '6 -> 5,8',\n",
    "    '7 -> 9',\n",
    "    '8 -> 7',\n",
    "    '9 -> 6',\n",
    "]"
   ]
  },
  {
   "cell_type": "code",
   "execution_count": 27,
   "metadata": {},
   "outputs": [
    {
     "name": "stdout",
     "output_type": "stream",
     "text": [
      "0->3->2->6->8->7->9->6->5->4->2->1->0\n"
     ]
    }
   ],
   "source": [
    "graph = build_graph(sample_input)\n",
    "cycle = eulerian_cycle(graph)\n",
    "assert cycle[0] == cycle[-1]\n",
    "print(display_cycle(cycle))"
   ]
  },
  {
   "cell_type": "code",
   "execution_count": 32,
   "metadata": {},
   "outputs": [],
   "source": [
    "def is_path(cycle, graph):\n",
    "    edges = [\n",
    "        (start, end)\n",
    "        for start, ends in graph.items()\n",
    "        for end in ends\n",
    "    ]\n",
    "    cycle_ = list(zip(cycle[:-1], cycle[1:]))\n",
    "    # print(sorted(set(edges)-set(cycle_)))\n",
    "    # print(sorted(set(cycle_)-set(edges)))\n",
    "    return sorted(edges) == sorted(cycle_)"
   ]
  },
  {
   "cell_type": "code",
   "execution_count": 33,
   "metadata": {},
   "outputs": [],
   "source": [
    "def is_eulerian(cycle):\n",
    "    cycle_ = list(zip(cycle[:-1], cycle[1:]))\n",
    "    return sorted(list(set(cycle_))) == sorted(cycle_)"
   ]
  },
  {
   "cell_type": "code",
   "execution_count": 34,
   "metadata": {},
   "outputs": [],
   "source": [
    "input_filename = 'dataset_203_2'\n",
    "with open(f'data/{input_filename}.txt', 'r') as input_file:\n",
    "    test_input = input_file.readlines()"
   ]
  },
  {
   "cell_type": "code",
   "execution_count": 35,
   "metadata": {
    "scrolled": false
   },
   "outputs": [],
   "source": [
    "graph = build_graph(test_input)\n",
    "cycle = eulerian_cycle(graph)\n",
    "assert cycle[0] == cycle[-1]\n",
    "assert is_eulerian(cycle)\n",
    "assert is_path(cycle, graph)"
   ]
  },
  {
   "cell_type": "code",
   "execution_count": 36,
   "metadata": {},
   "outputs": [],
   "source": [
    "output_filename = 'submission_' + '_'.join(input_filename.split('_')[1:])\n",
    "with open(f'data/{output_filename}.txt', 'w') as output_file:\n",
    "    output_file.write(display_cycle(cycle))"
   ]
  },
  {
   "cell_type": "markdown",
   "metadata": {},
   "source": [
    "---\n",
    "## Eulerian Path Problem"
   ]
  },
  {
   "cell_type": "code",
   "execution_count": 37,
   "metadata": {},
   "outputs": [],
   "source": [
    "sample_input = [\n",
    "    '0 -> 2',\n",
    "    '1 -> 3',\n",
    "    '2 -> 1',\n",
    "    '3 -> 0,4',\n",
    "    '6 -> 3,7',\n",
    "    '7 -> 8',\n",
    "    '8 -> 9',\n",
    "    '9 -> 6',\n",
    "]\n",
    "\n",
    "# out_deg(4)=0, in_deg(4)=1\n",
    "# out_deg(3)=2, in_deg(3)=2\n",
    "# out_deg(6)=2, in_deg(6)=1"
   ]
  },
  {
   "cell_type": "code",
   "execution_count": 38,
   "metadata": {},
   "outputs": [],
   "source": [
    "from functools import reduce\n",
    "from operator import add\n",
    "from collections import Counter\n",
    "\n",
    "def eulerian_path(edges):\n",
    "    in_nodes = list(edges.keys())\n",
    "    out_nodes = reduce(add, list(graph.values()))\n",
    "    in_degrees = Counter(out_nodes)\n",
    "    out_degrees = Counter({key: len(value) for key, value in graph.items()})\n",
    "    start = end = None\n",
    "    for node in set(out_nodes + in_nodes):\n",
    "        difference = out_degrees[node] - in_degrees[node]\n",
    "        if difference > 0:\n",
    "            start = node\n",
    "        if difference < 0:\n",
    "            end = node\n",
    "    if not start or not end:\n",
    "        return []\n",
    "    augmented_edges = {end: [start]}\n",
    "    augmented_edges.update(edges)\n",
    "    cycle = eulerian_cycle(augmented_edges)\n",
    "    path = deque(cycle[:-1])\n",
    "    path.rotate(-1 - path.index(end))\n",
    "    return list(path)"
   ]
  },
  {
   "cell_type": "code",
   "execution_count": 39,
   "metadata": {},
   "outputs": [
    {
     "name": "stdout",
     "output_type": "stream",
     "text": [
      "Original:  {'0': ['2'], '1': ['3'], '2': ['1'], '3': ['0', '4'], '6': ['3', '7'], '7': ['8'], '8': ['9'], '9': ['6']}\n",
      "6->7->8->9->6->3->0->2->1->3->4\n"
     ]
    }
   ],
   "source": [
    "graph = build_graph(sample_input)\n",
    "print('Original: ', dict(graph))\n",
    "path = eulerian_path(graph)  \n",
    "print(display_cycle(path))"
   ]
  },
  {
   "cell_type": "code",
   "execution_count": 40,
   "metadata": {},
   "outputs": [],
   "source": [
    "input_filename = 'dataset_203_6'\n",
    "with open(f'data/{input_filename}.txt', 'r') as input_file:\n",
    "    test_input = input_file.readlines()"
   ]
  },
  {
   "cell_type": "code",
   "execution_count": 41,
   "metadata": {},
   "outputs": [],
   "source": [
    "graph = build_graph(test_input)\n",
    "path = eulerian_path(graph)"
   ]
  },
  {
   "cell_type": "code",
   "execution_count": 42,
   "metadata": {},
   "outputs": [],
   "source": [
    "output_filename = 'submission_' + '_'.join(input_filename.split('_')[1:])\n",
    "with open(f'data/{output_filename}.txt', 'w') as output_file:\n",
    "    output_file.write(display_cycle(path))"
   ]
  },
  {
   "cell_type": "markdown",
   "metadata": {},
   "source": [
    "---\n",
    "## String Reconstruction Problem"
   ]
  },
  {
   "cell_type": "code",
   "execution_count": 44,
   "metadata": {},
   "outputs": [],
   "source": [
    "import import_ipynb  "
   ]
  },
  {
   "cell_type": "code",
   "execution_count": 57,
   "metadata": {},
   "outputs": [],
   "source": [
    "from Week1 import debruijn_graph_from_kmers, path_to_genome;"
   ]
  },
  {
   "cell_type": "code",
   "execution_count": 64,
   "metadata": {},
   "outputs": [],
   "source": [
    "sample_input = [\n",
    "    'CTTA',\n",
    "    'ACCA',\n",
    "    'TACC',\n",
    "    'GGCT',\n",
    "    'GCTT',\n",
    "    'TTAC',\n",
    "]"
   ]
  },
  {
   "cell_type": "code",
   "execution_count": 65,
   "metadata": {},
   "outputs": [],
   "source": [
    "sample_output = 'GGCTTACCA'"
   ]
  },
  {
   "cell_type": "code",
   "execution_count": 66,
   "metadata": {},
   "outputs": [],
   "source": [
    "graph = debruijn_graph_from_kmers(sample_input)"
   ]
  },
  {
   "cell_type": "code",
   "execution_count": 67,
   "metadata": {},
   "outputs": [],
   "source": [
    "path = eulerian_path(graph)\n",
    "genome = path_to_genome(path)"
   ]
  },
  {
   "cell_type": "code",
   "execution_count": 72,
   "metadata": {},
   "outputs": [],
   "source": [
    "assert path_to_genome(path) == sample_output"
   ]
  },
  {
   "cell_type": "code",
   "execution_count": 83,
   "metadata": {},
   "outputs": [],
   "source": [
    "input_filename = 'dataset_203_7'\n",
    "with open(f'data/{input_filename}.txt', 'r') as input_file:\n",
    "    test_input = input_file.readlines()"
   ]
  },
  {
   "cell_type": "code",
   "execution_count": 84,
   "metadata": {},
   "outputs": [],
   "source": [
    "graph = debruijn_graph_from_kmers([line.strip() for line in test_input[1:]])"
   ]
  },
  {
   "cell_type": "code",
   "execution_count": 85,
   "metadata": {},
   "outputs": [],
   "source": [
    "path = eulerian_path(graph)\n",
    "genome = path_to_genome(path)"
   ]
  },
  {
   "cell_type": "code",
   "execution_count": 86,
   "metadata": {},
   "outputs": [],
   "source": [
    "output_filename = 'submission_' + '_'.join(input_filename.split('_')[1:])\n",
    "with open(f'data/{output_filename}.txt', 'w') as output_file:\n",
    "    output_file.write(genome)"
   ]
  },
  {
   "cell_type": "markdown",
   "metadata": {},
   "source": [
    "---\n",
    "## k-Universal Circular String Problem"
   ]
  },
  {
   "cell_type": "code",
   "execution_count": 238,
   "metadata": {},
   "outputs": [],
   "source": [
    "from Week1 import is_universal"
   ]
  },
  {
   "cell_type": "code",
   "execution_count": 228,
   "metadata": {},
   "outputs": [],
   "source": [
    "from itertools import product"
   ]
  },
  {
   "cell_type": "code",
   "execution_count": 229,
   "metadata": {},
   "outputs": [],
   "source": [
    "def binary_strings(k):\n",
    "    kmers_ = product('01', repeat=k)\n",
    "    kmers = [''.join(combo) for combo in kmers_]\n",
    "    return sorted(kmers)"
   ]
  },
  {
   "cell_type": "code",
   "execution_count": 259,
   "metadata": {},
   "outputs": [],
   "source": [
    "def universal_circular_string(k):\n",
    "    kmers = binary_strings(k)\n",
    "    graph = debruijn_graph_from_kmers(kmers)\n",
    "    cycle = eulerian_cycle(graph)\n",
    "    genome = path_to_genome(cycle[:-(k-1)])\n",
    "    return genome"
   ]
  },
  {
   "cell_type": "code",
   "execution_count": 260,
   "metadata": {},
   "outputs": [],
   "source": [
    "def is_universal_circular(binary_string, k):\n",
    "    return is_universal(binary_string + binary_string[:k-1], k)"
   ]
  },
  {
   "cell_type": "code",
   "execution_count": 269,
   "metadata": {},
   "outputs": [],
   "source": [
    "sample_k = 4\n",
    "sample_output = '0000110010111101'\n",
    "sample_result = universal_circular_string(sample_k)\n",
    "assert len(sample_result) == 2 ** sample_k\n",
    "assert is_universal_circular(sample_result, sample_k)"
   ]
  },
  {
   "cell_type": "code",
   "execution_count": 262,
   "metadata": {},
   "outputs": [],
   "source": [
    "input_filename = 'dataset_203_11'\n",
    "with open(f'data/{input_filename}.txt', 'r') as input_file:\n",
    "    test_input = input_file.readlines()\n",
    "    test_k = int(test_input[0].strip())"
   ]
  },
  {
   "cell_type": "code",
   "execution_count": 264,
   "metadata": {},
   "outputs": [],
   "source": [
    "result = universal_circular_string(test_k)"
   ]
  },
  {
   "cell_type": "code",
   "execution_count": 265,
   "metadata": {},
   "outputs": [],
   "source": [
    "output_filename = 'submission_' + '_'.join(input_filename.split('_')[1:])\n",
    "with open(f'data/{output_filename}.txt', 'w') as output_file:\n",
    "    output_file.write(result)"
   ]
  },
  {
   "cell_type": "markdown",
   "metadata": {},
   "source": [
    "---\n",
    "## ?"
   ]
  },
  {
   "cell_type": "code",
   "execution_count": null,
   "metadata": {},
   "outputs": [],
   "source": []
  }
 ],
 "metadata": {
  "kernelspec": {
   "display_name": "Python 3",
   "language": "python",
   "name": "python3"
  },
  "language_info": {
   "codemirror_mode": {
    "name": "ipython",
    "version": 3
   },
   "file_extension": ".py",
   "mimetype": "text/x-python",
   "name": "python",
   "nbconvert_exporter": "python",
   "pygments_lexer": "ipython3",
   "version": "3.6.8"
  }
 },
 "nbformat": 4,
 "nbformat_minor": 2
}
