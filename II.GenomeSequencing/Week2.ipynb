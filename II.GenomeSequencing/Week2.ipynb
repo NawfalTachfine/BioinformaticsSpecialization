{
 "cells": [
  {
   "cell_type": "markdown",
   "metadata": {},
   "source": [
    "## Eulerian Cycle Problem"
   ]
  },
  {
   "cell_type": "code",
   "execution_count": null,
   "metadata": {},
   "outputs": [],
   "source": [
    "from collections import defaultdict\n",
    "\n",
    "def build_graph(text):\n",
    "    lines = [line.strip().split(' -> ')  for line in text]\n",
    "    edges = {\n",
    "       int(line[0]): list(map(int, line[1].split(',')))\n",
    "       for line in lines                   \n",
    "    }\n",
    "    return defaultdict(list, edges)"
   ]
  },
  {
   "cell_type": "code",
   "execution_count": 2,
   "metadata": {},
   "outputs": [],
   "source": [
    "from copy import deepcopy\n",
    "from random import choice\n",
    "\n",
    "def random_walk(edges_, start_from=None):\n",
    "    edges = deepcopy(edges_)\n",
    "    start = start_from if start_from else list(edges.keys())[0] # choice(list(edges.keys()))\n",
    "    ends = edges[start]\n",
    "    if len(ends) > 1:\n",
    "        end = ends.pop()\n",
    "    else:\n",
    "        end = edges.pop(start)[0]\n",
    "    walk = [start, end]\n",
    "    stuck = False\n",
    "    while edges and not stuck:\n",
    "        if end in edges:\n",
    "            start = end\n",
    "            ends = edges[start]\n",
    "            if len(ends) > 1:\n",
    "                end = ends.pop()\n",
    "            else:\n",
    "                end = edges.pop(start)[0]\n",
    "            walk.append(end)\n",
    "        else:\n",
    "            stuck = True\n",
    "    return walk, edges"
   ]
  },
  {
   "cell_type": "code",
   "execution_count": 3,
   "metadata": {},
   "outputs": [],
   "source": [
    "from collections import deque\n",
    "\n",
    "def eulerian_cycle(edges):\n",
    "    cycle, remaining_edges = random_walk(edges)\n",
    "    while remaining_edges:\n",
    "        new_start = None\n",
    "        cycle_ = deque(cycle[:-1])\n",
    "        for index, node in enumerate(cycle_):\n",
    "            if node in remaining_edges.keys():\n",
    "                new_start = node\n",
    "                break\n",
    "        cycle_.rotate(-index)\n",
    "        new_cycle, remaining_edges = random_walk(remaining_edges, start_from=new_start)\n",
    "        cycle = list(cycle_)  + new_cycle\n",
    "    return cycle\n",
    "\n",
    "def display_cycle(cycle):\n",
    "    return '->'.join(map(str, cycle))"
   ]
  },
  {
   "cell_type": "code",
   "execution_count": 4,
   "metadata": {},
   "outputs": [],
   "source": [
    "sample_input = [\n",
    "    '0 -> 3',\n",
    "    '1 -> 0',\n",
    "    '2 -> 1,6',\n",
    "    '3 -> 2',\n",
    "    '4 -> 2',\n",
    "    '5 -> 4',\n",
    "    '6 -> 5,8',\n",
    "    '7 -> 9',\n",
    "    '8 -> 7',\n",
    "    '9 -> 6',\n",
    "]"
   ]
  },
  {
   "cell_type": "code",
   "execution_count": 5,
   "metadata": {},
   "outputs": [
    {
     "name": "stdout",
     "output_type": "stream",
     "text": [
      "0->3->2->6->8->7->9->6->5->4->2->1->0\n"
     ]
    }
   ],
   "source": [
    "graph = build_graph(sample_input)\n",
    "cycle = eulerian_cycle(graph)\n",
    "assert cycle[0] == cycle[-1]\n",
    "print(display_cycle(cycle))"
   ]
  },
  {
   "cell_type": "code",
   "execution_count": 6,
   "metadata": {},
   "outputs": [],
   "source": [
    "def is_path(cycle, graph):\n",
    "    edges = [\n",
    "        (start, end)\n",
    "        for start, ends in graph.items()\n",
    "        for end in ends\n",
    "    ]\n",
    "    cycle_ = list(zip(cycle[:-1], cycle[1:]))\n",
    "    # print(sorted(set(edges)-set(cycle_)))\n",
    "    # print(sorted(set(cycle_)-set(edges)))\n",
    "    return sorted(edges) == sorted(cycle_)"
   ]
  },
  {
   "cell_type": "code",
   "execution_count": 7,
   "metadata": {},
   "outputs": [],
   "source": [
    "def is_eulerian(cycle):\n",
    "    cycle_ = list(zip(cycle[:-1], cycle[1:]))\n",
    "    return sorted(list(set(cycle_))) == sorted(cycle_)"
   ]
  },
  {
   "cell_type": "code",
   "execution_count": 8,
   "metadata": {},
   "outputs": [],
   "source": [
    "input_filename = 'dataset_203_2'\n",
    "with open(f'data/{input_filename}.txt', 'r') as input_file:\n",
    "    test_input = input_file.readlines()"
   ]
  },
  {
   "cell_type": "code",
   "execution_count": 9,
   "metadata": {
    "scrolled": false
   },
   "outputs": [],
   "source": [
    "graph = build_graph(test_input)\n",
    "cycle = eulerian_cycle(graph)\n",
    "assert cycle[0] == cycle[-1]\n",
    "assert is_eulerian(cycle)\n",
    "assert is_path(cycle, graph)"
   ]
  },
  {
   "cell_type": "code",
   "execution_count": 10,
   "metadata": {},
   "outputs": [],
   "source": [
    "output_filename = 'submission_' + '_'.join(input_filename.split('_')[1:])\n",
    "with open(f'data/{output_filename}.txt', 'w') as output_file:\n",
    "    output_file.write(display_cycle(cycle))"
   ]
  },
  {
   "cell_type": "markdown",
   "metadata": {},
   "source": [
    "---\n",
    "## Eulerian Path Problem"
   ]
  },
  {
   "cell_type": "code",
   "execution_count": 11,
   "metadata": {},
   "outputs": [],
   "source": [
    "sample_input = [\n",
    "    '0 -> 2',\n",
    "    '1 -> 3',\n",
    "    '2 -> 1',\n",
    "    '3 -> 0,4',\n",
    "    '6 -> 3,7',\n",
    "    '7 -> 8',\n",
    "    '8 -> 9',\n",
    "    '9 -> 6',\n",
    "]"
   ]
  },
  {
   "cell_type": "code",
   "execution_count": 71,
   "metadata": {},
   "outputs": [
    {
     "name": "stdout",
     "output_type": "stream",
     "text": [
      "defaultdict(<class 'list'>, {0: [2], 1: [3], 2: [1], 3: [0, 4], 6: [3, 7], 7: [8], 8: [9], 9: [6]})\n",
      "---\n",
      "{4: [0], 0: [2], 1: [3], 2: [1], 3: [0, 4], 6: [3, 7], 7: [8], 8: [9], 9: [6]}\n",
      "[3, 3, 4, 0, 2, 1, 6, 7, 8, 9, 6, 3]\n",
      "False True\n",
      "---\n",
      "{4: [1], 0: [2], 1: [3], 2: [1], 3: [0, 4], 6: [3, 7], 7: [8], 8: [9], 9: [6]}\n",
      "[2, 3, 4, 1, 3, 0, 6, 7, 8, 9, 6, 3]\n",
      "False True\n",
      "---\n",
      "{4: [2], 0: [2], 1: [3], 2: [1], 3: [0, 4], 6: [3, 7], 7: [8], 8: [9], 9: [6]}\n",
      "[0, 3, 4, 2, 1, 3, 6, 7, 8, 9, 6, 3]\n",
      "False True\n",
      "---\n",
      "{4: [3], 0: [2], 1: [3], 2: [1], 3: [0, 4], 6: [3, 7], 7: [8], 8: [9], 9: [6]}\n",
      "[1, 3, 4, 3, 0, 2, 6, 7, 8, 9, 6, 3]\n",
      "False True\n",
      "---\n",
      "{4: [6], 0: [2], 1: [3], 2: [1], 3: [0, 4], 6: [3, 7], 7: [8], 8: [9], 9: [6]}\n",
      "[3, 4, 6, 7, 8, 9, 6, 3, 0, 2, 1, 3]\n",
      "True True\n",
      "---\n",
      "{4: [7], 0: [2], 1: [3], 2: [1], 3: [0, 4], 6: [3, 7], 7: [8], 8: [9], 9: [6]}\n",
      "[3, 6, 4, 7, 8, 9, 6, 3, 0, 2, 1, 3]\n",
      "False True\n",
      "---\n",
      "{4: [8], 0: [2], 1: [3], 2: [1], 3: [0, 4], 6: [3, 7], 7: [8], 8: [9], 9: [6]}\n",
      "[3, 6, 7, 4, 8, 9, 6, 3, 0, 2, 1, 3]\n",
      "False True\n",
      "---\n",
      "{4: [9], 0: [2], 1: [3], 2: [1], 3: [0, 4], 6: [3, 7], 7: [8], 8: [9], 9: [6]}\n",
      "[3, 6, 7, 8, 4, 9, 6, 3, 0, 2, 1, 3]\n",
      "False True\n"
     ]
    }
   ],
   "source": [
    "def eulerian_path(edges):\n",
    "    starts = set(edges.keys())\n",
    "    ends = set.union(*map(set, edges.values()))\n",
    "    end = (ends - starts).pop()\n",
    "    cycles = list()\n",
    "    for start in edges.keys():\n",
    "        augmented_edges = {end: [start]}\n",
    "        augmented_edges.update(edges)\n",
    "        cycle = eulerian_cycle(augmented_edges)\n",
    "        print('---')\n",
    "        print(augmented_edges)\n",
    "        print(cycle)\n",
    "        print(is_path(cycle, augmented_edges), is_eulerian(cycle))\n",
    "        if is_path(cycle, edges) and is_eulerian(cycle):\n",
    "            cycles.append(cycle)\n",
    "    return cycles\n",
    "\n",
    "graph = build_graph(sample_input)\n",
    "print(graph)\n",
    "_ = eulerian_path(graph)  "
   ]
  },
  {
   "cell_type": "code",
   "execution_count": null,
   "metadata": {},
   "outputs": [],
   "source": []
  }
 ],
 "metadata": {
  "kernelspec": {
   "display_name": "Python 3",
   "language": "python",
   "name": "python3"
  },
  "language_info": {
   "codemirror_mode": {
    "name": "ipython",
    "version": 3
   },
   "file_extension": ".py",
   "mimetype": "text/x-python",
   "name": "python",
   "nbconvert_exporter": "python",
   "pygments_lexer": "ipython3",
   "version": "3.6.8"
  }
 },
 "nbformat": 4,
 "nbformat_minor": 2
}
