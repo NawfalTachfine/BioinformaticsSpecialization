{
 "cells": [
  {
   "cell_type": "markdown",
   "metadata": {},
   "source": [
    "---\n",
    "## Linear Scoring"
   ]
  },
  {
   "cell_type": "code",
   "execution_count": 1,
   "metadata": {},
   "outputs": [],
   "source": [
    "from utils import parse_spectrum, display_spectrum"
   ]
  },
  {
   "cell_type": "code",
   "execution_count": 2,
   "metadata": {},
   "outputs": [],
   "source": [
    "import import_ipynb"
   ]
  },
  {
   "cell_type": "code",
   "execution_count": 3,
   "metadata": {},
   "outputs": [
    {
     "name": "stdout",
     "output_type": "stream",
     "text": [
      "importing Jupyter notebook from Week3.ipynb\n",
      "0 71 71 97 101 103 103 128 128 128 131 131 131 137 172 174 186 186 199 199 225 228 231 232 259 262 268 275 289 289 303 314 323 327 328 329 330 356 360 385 390 399 400 406 417 417 426 454 457 458 459 461 461 488 497 503 513 514 527 528 545 557 560 585 589 592 598 598 616 616 628 631 631 642 644 645 688 689 713 713 726 729 729 734 744 746 747 759 773 775 784 816 817 817 826 841 844 860 860 874 875 878 887 887 912 912 920 920 945 945 954 957 958 972 972 988 991 1006 1015 1015 1016 1048 1057 1059 1073 1085 1086 1088 1098 1103 1103 1106 1119 1119 1143 1144 1187 1188 1190 1201 1201 1204 1216 1216 1234 1234 1240 1243 1247 1272 1275 1287 1304 1305 1318 1319 1329 1335 1344 1371 1371 1373 1374 1375 1378 1406 1415 1415 1426 1432 1433 1442 1447 1472 1476 1502 1503 1504 1505 1509 1518 1529 1543 1543 1557 1564 1570 1573 1600 1601 1604 1607 1633 1633 1646 1646 1658 1660 1695 1701 1701 1701 1704 1704 1704 1729 1729 1731 1735 1761 1761 1832\n",
      "CPU times: user 1 µs, sys: 0 ns, total: 1 µs\n",
      "Wall time: 3.81 µs\n",
      "CPU times: user 2 µs, sys: 1 µs, total: 3 µs\n",
      "Wall time: 4.05 µs\n"
     ]
    }
   ],
   "source": [
    "from Week3 import generate_theoretical_spectrum, INTEGER_MASSES, RESTRICTED_MASSES;"
   ]
  },
  {
   "cell_type": "code",
   "execution_count": 4,
   "metadata": {},
   "outputs": [],
   "source": [
    "from collections import Counter\n",
    "\n",
    "def linear_score(peptide, spectrum, integer_masses=INTEGER_MASSES):\n",
    "    if not peptide:\n",
    "        return 0\n",
    "    theoretical_spectrum = [\n",
    "        mass \n",
    "        for sub_peptide, mass in generate_theoretical_spectrum(peptide, integer_masses)\n",
    "        if sub_peptide in peptide or sorted(peptide)==sorted(sub_peptide)\n",
    "    ]\n",
    "    theoretical_counter = Counter(theoretical_spectrum)\n",
    "    experimental_counter = Counter(spectrum)\n",
    "    intersection = {\n",
    "        key: min(value, experimental_counter[key])\n",
    "        for key, value in theoretical_counter.items()\n",
    "        if experimental_counter[key] > 0\n",
    "    }\n",
    "    return sum(intersection.values())"
   ]
  },
  {
   "cell_type": "code",
   "execution_count": 5,
   "metadata": {},
   "outputs": [],
   "source": [
    "def cyclo_score(peptide, spectrum, integer_masses=INTEGER_MASSES):\n",
    "    if not peptide:\n",
    "        return 0\n",
    "    _, theoretical_spectrum = zip(*generate_theoretical_spectrum(peptide, integer_masses))\n",
    "    theoretical_counter = Counter(theoretical_spectrum)\n",
    "    experimental_counter = Counter(spectrum)\n",
    "    intersection = {\n",
    "        key: min(value, experimental_counter[key])\n",
    "        for key, value in theoretical_counter.items()\n",
    "        if experimental_counter[key] > 0\n",
    "    }\n",
    "    return sum(intersection.values())"
   ]
  },
  {
   "cell_type": "code",
   "execution_count": 6,
   "metadata": {},
   "outputs": [],
   "source": [
    "sample_peptide = 'NQEL'\n",
    "sample_spectrum_ = '0 99 113 114 128 227 257 299 355 356 370 371 484'\n",
    "sample_spectrum = parse_spectrum(sample_spectrum_)\n",
    "sample_output = 8"
   ]
  },
  {
   "cell_type": "code",
   "execution_count": 7,
   "metadata": {},
   "outputs": [],
   "source": [
    "assert sample_output == linear_score(sample_peptide, sample_spectrum)"
   ]
  },
  {
   "cell_type": "code",
   "execution_count": 8,
   "metadata": {},
   "outputs": [],
   "source": [
    "test_peptide = 'IRQCGSWHGKDMIRSRHDHPHKTWGCTEHRSAFCYACSDGAVMIYRCVT'\n",
    "test_spectrum_ = '0 57 57 57 57 57 71 71 71 87 87 87 87 87 97 99 101 103 103 103 103 103 113 113 113 115 115 115 128 128 128 128 129 131 131 137 137 137 137 137 144 147 147 156 156 156 156 156 158 160 163 163 172 172 174 185 185 186 186 186 190 199 202 202 204 204 218 230 234 234 234 243 243 243 243 243 243 243 244 244 246 250 250 256 259 259 259 259 261 261 265 266 266 269 269 273 274 274 276 289 291 293 293 300 300 300 301 305 305 307 314 319 321 322 330 330 330 333 337 337 346 356 358 358 359 362 362 367 371 371 371 371 372 372 374 376 380 380 387 388 390 394 399 400 403 406 407 408 411 413 415 419 422 422 424 428 430 431 432 433 433 440 443 445 445 445 447 451 458 461 463 470 477 484 484 486 487 487 499 500 502 502 504 504 508 508 508 509 512 515 517 519 521 523 527 527 531 535 535 536 539 544 546 550 555 556 561 563 564 565 567 571 573 576 576 580 580 587 589 592 596 598 601 602 605 606 608 610 615 626 630 632 632 633 634 636 642 642 643 643 645 649 649 654 658 659 662 663 663 664 666 667 668 673 674 681 683 688 691 692 693 695 699 700 701 702 713 713 721 727 727 730 732 736 742 745 745 745 751 752 758 761 762 763 765 765 769 770 770 770 773 777 778 780 784 786 787 789 794 795 798 799 801 805 810 815 819 819 828 830 830 832 841 845 846 849 851 852 860 864 865 865 866 869 876 876 879 880 886 888 892 893 895 898 898 898 901 902 902 907 908 917 917 917 922 923 926 926 929 931 931 932 934 935 936 943 947 956 964 964 968 980 986 988 988 988 989 993 995 995 1001 1003 1004 1013 1016 1016 1020 1021 1021 1021 1023 1023 1027 1029 1032 1034 1035 1036 1037 1038 1039 1039 1039 1044 1045 1051 1054 1054 1058 1064 1073 1073 1075 1080 1084 1088 1088 1091 1094 1103 1108 1116 1124 1124 1125 1126 1132 1132 1136 1136 1140 1141 1142 1145 1149 1151 1151 1157 1160 1160 1165 1167 1169 1172 1172 1174 1175 1176 1176 1191 1195 1195 1197 1202 1203 1212 1217 1223 1223 1227 1229 1229 1231 1231 1232 1239 1240 1244 1247 1254 1254 1259 1264 1266 1268 1268 1269 1269 1277 1277 1278 1282 1285 1288 1288 1289 1292 1297 1297 1298 1305 1310 1316 1325 1326 1331 1332 1332 1334 1334 1342 1349 1354 1355 1358 1359 1359 1360 1368 1369 1371 1375 1379 1381 1388 1394 1395 1395 1395 1397 1403 1406 1406 1413 1415 1416 1419 1425 1426 1428 1433 1440 1446 1447 1451 1452 1458 1461 1461 1462 1468 1469 1470 1472 1473 1482 1484 1490 1496 1496 1497 1497 1508 1511 1512 1515 1518 1520 1523 1525 1527 1528 1531 1531 1535 1543 1551 1560 1562 1562 1564 1566 1568 1573 1575 1583 1585 1588 1588 1593 1598 1599 1603 1605 1608 1610 1614 1625 1625 1627 1630 1630 1638 1638 1647 1649 1649 1655 1659 1659 1662 1663 1664 1671 1672 1676 1679 1687 1688 1696 1696 1699 1699 1701 1701 1703 1711 1716 1716 1716 1720 1726 1730 1740 1742 1750 1751 1752 1756 1758 1758 1762 1766 1766 1773 1774 1775 1782 1786 1786 1789 1794 1799 1799 1805 1809 1810 1816 1819 1829 1831 1831 1833 1833 1839 1855 1857 1857 1859 1867 1869 1869 1873 1873 1881 1886 1886 1888 1889 1896 1897 1902 1903 1907 1912 1918 1920 1922 1930 1930 1931 1934 1936 1942 1942 1942 1944 1946 1959 1959 1960 1968 1968 1970 1970 1976 1996 2001 2001 2004 2013 2016 2017 2017 2023 2025 2029 2032 2033 2033 2035 2043 2044 2049 2049 2055 2055 2058 2059 2062 2067 2068 2072 2073 2074 2074 2098 2100 2104 2107 2119 2120 2124 2129 2129 2130 2131 2133 2133 2138 2146 2160 2161 2161 2162 2163 2164 2170 2180 2181 2185 2186 2188 2195 2203 2204 2205 2211 2211 2218 2220 2234 2235 2236 2247 2256 2257 2257 2260 2260 2261 2263 2266 2270 2283 2289 2291 2292 2292 2293 2298 2301 2302 2307 2308 2316 2317 2318 2335 2341 2342 2347 2348 2349 2350 2363 2365 2369 2372 2373 2388 2390 2392 2392 2394 2394 2403 2404 2404 2411 2415 2420 2426 2429 2429 2429 2439 2444 2449 2457 2461 2464 2468 2477 2479 2486 2491 2491 2495 2497 2500 2500 2501 2506 2507 2509 2513 2516 2521 2525 2531 2536 2544 2551 2552 2552 2564 2566 2567 2578 2584 2585 2594 2600 2601 2608 2608 2615 2619 2622 2624 2628 2635 2637 2638 2642 2646 2647 2650 2651 2654 2664 2665 2669 2672 2680 2681 2687 2687 2692 2703 2711 2711 2729 2735 2737 2737 2738 2738 2740 2743 2750 2757 2759 2762 2765 2774 2774 2782 2787 2794 2795 2800 2801 2802 2810 2812 2814 2820 2837 2843 2844 2853 2859 2865 2867 2872 2874 2889 2890 2894 2896 2898 2902 2913 2915 2915 2923 2923 2924 2930 2930 2931 2941 2943 2946 2947 2956 2957 2970 2980 2981 2984 2993 3009 3017 3022 3028 3030 3030 3033 3035 3043 3044 3045 3050 3054 3058 3060 3062 3071 3078 3083 3087 3087 3099 3101 3102 3109 3117 3145 3146 3156 3157 3158 3159 3165 3172 3173 3174 3174 3181 3184 3188 3189 3191 3200 3202 3213 3215 3227 3234 3245 3246 3248 3256 3276 3284 3286 3289 3289 3294 3301 3302 3309 3313 3321 3328 3328 3330 3335 3337 3337 3343 3346 3351 3387 3389 3392 3392 3393 3399 3404 3414 3417 3417 3424 3431 3432 3438 3450 3461 3465 3465 3474 3480 3493 3495 3495 3502 3514 3530 3532 3532 3539 3545 3545 3545 3552 3568 3580 3585 3589 3589 3589 3601 3606 3617 3621 3642 3642 3646 3651 3658 3658 3660 3660 3667 3672 3676 3688 3693 3704 3708 3708 3717 3724 3729 3745 3754 3761 3764 3775 3775 3788 3789 3791 3798 3805 3811 3821 3823 3832 3832 3845 3862 3864 3876 3890 3901 3904 3908 3910 3910 3911 3919 3919 3947 3952 3960 3967 3976 3977 3977 3979 3979 3997 4014 4018 4032 4034 4034 4064 4066 4066 4067 4080 4082 4089 4091 4091 4105 4108 4135 4146 4153 4162 4169 4177 4179 4181 4195 4204 4211 4223 4233 4238 4238 4248 4252 4266 4277 4284 4290 4309 4310 4325 4326 4341 4351 4351 4364 4367 4390 4397 4408 4412 4421 4425 4437 4438 4440 4454 4477 4497 4511 4512 4523 4534 4540 4553 4553 4553 4568 4568 4610 4610 4626 4640 4640 4671 4681 4681 4696 4697 4697 4709 4725 4784 4796 4809 4812 4812 4827 4844 4853 4899 4911 4940 4940 4947 4956 4998 4998 5000 5053 5055 5085 5103 5103 5103 5142 5202 5206 5216 5259 5289 5305 5362 5372 5392 5461 5475 5548 5574 5661'\n",
    "test_spectrum = parse_spectrum(test_spectrum_)"
   ]
  },
  {
   "cell_type": "code",
   "execution_count": 9,
   "metadata": {},
   "outputs": [
    {
     "data": {
      "text/plain": [
       "443"
      ]
     },
     "execution_count": 9,
     "metadata": {},
     "output_type": "execute_result"
    }
   ],
   "source": [
    "linear_score(test_peptide, test_spectrum)"
   ]
  },
  {
   "cell_type": "markdown",
   "metadata": {},
   "source": [
    "---\n",
    "## Leaderboard Trimming "
   ]
  },
  {
   "cell_type": "markdown",
   "metadata": {},
   "source": [
    "    Trim(Leaderboard, Spectrum, N, Alphabet, AminoAcidMass)\n",
    "        for j ← 1 to |Leaderboard|\n",
    "            Peptide ← j-th peptide in Leaderboard\n",
    "            LinearScores(j) ← LinearScore(Peptide, Spectrum, Alphabet, AminoAcidMass)\n",
    "        sort Leaderboard according to the decreasing order of scores in LinearScores\n",
    "        sort LinearScores in decreasing order\n",
    "        for j ← N + 1 to |Leaderboard|\n",
    "            if LinearScores(j) < LinearScores(N)\n",
    "                remove all peptides starting from the j-th peptide from Leaderboard\n",
    "                return Leaderboard\n",
    "        return Leaderboard"
   ]
  },
  {
   "cell_type": "code",
   "execution_count": 10,
   "metadata": {},
   "outputs": [],
   "source": [
    "def trim(leaderboard, leaderboard_masses, spectrum, leaderboard_size, integer_masses=INTEGER_MASSES):\n",
    "    scores = [linear_score(leader, spectrum, integer_masses) for leader in leaderboard]\n",
    "    scored = sorted(zip(scores, leaderboard, leaderboard_masses), reverse=True)\n",
    "    cutoff = scored[leaderboard_size - 1][0]\n",
    "    filtered = [\n",
    "        (peptide, peptide_mass)\n",
    "        for i, (score, peptide, peptide_mass) in enumerate(scored)\n",
    "        if score >= cutoff or i < leaderboard_size\n",
    "    ]\n",
    "    trimmed_leaderboard, trimmed_masses = zip(*filtered)\n",
    "    return list(trimmed_leaderboard), list(trimmed_masses)"
   ]
  },
  {
   "cell_type": "code",
   "execution_count": 11,
   "metadata": {},
   "outputs": [],
   "source": [
    "sample_leaderboard = 'LAST ALST TLLT TQAS'.split(' ')\n",
    "sample_spectrum_ = '0 71 87 101 113 158 184 188 259 271 372'\n",
    "sample_spectrum = parse_spectrum(sample_spectrum_)\n",
    "sample_leaderboard_size = 2\n",
    "sample_masses = len(sample_leaderboard) * [0]\n",
    "sample_output = 'LAST ALST'"
   ]
  },
  {
   "cell_type": "code",
   "execution_count": 12,
   "metadata": {},
   "outputs": [],
   "source": [
    "sample_result, _ = trim(sample_leaderboard, sample_masses, sample_spectrum, sample_leaderboard_size)\n",
    "assert ' '.join(sample_result) == sample_output"
   ]
  },
  {
   "cell_type": "code",
   "execution_count": 13,
   "metadata": {},
   "outputs": [],
   "source": [
    "test_leaderboard = 'LAENLMFLQNEFMRWDNLEFLVCQRWYQINDVIIAAGGNMPKD IKDHKHRSIPWDIKPRIMDCPCWQSKTGGWIKYGHHSNQTFLH FFCTIVPMQMADLNADIFTAKMCMRVCGRAFLYCVLQPTDQKN MMPMVIIDVEHPKAYSTNMDPTMYPKHRSDCTHFTRIYNLYHR PGATNDEKNDPEEDHVELSNTQWRLQHKHQVFCHEGITPLLIT IALWKGKFLEVNAPHIQPGCVRLKIRKFIVATMYKYKTSEHKN MNYTGECPSFYCSHATEFDWETVLYGNWGFNYSIQWPIKNPKW SGCHAAIMYSVIGMGVGFQTNMLKQETYHFCDRTEQEQPWCML IYSIRMCHQFWFPCGQMVRKISVNGHVDRRREVMWGITIFMMT IIYYTNNQTVTWLHTDMGHKGMMSKMAEQYTTKAASCDWKCTR FMNDVMWSRMSYPDGRISCKQCLYHHKNPQSADLKQWMSEIFE NYDNDMARSVGVGHEFWWNTRETQKDHMNAQRQKMVMAHKFIL WQVCFMCCVFGYPQAITTMEGMLDSYEHVWKVAYDTFRGSFHK KKYHVRVITRPQIQGTFLHVNTNPAEFNCSHYKFDPMKRNIHR QISSPRQWGPPFRKLKSTYQPCGFWCPAHFHQGGSAMHMAMPN VGKLWMVQHAVSLYNQNHLESFHQLTEINPIAVCRCRDHIQHC'.split(' ')\n",
    "test_spectrum_ = '0 57 57 57 57 57 71 71 97 97 99 101 101 101 103 103 103 113 113 113 113 113 114 115 128 128 128 128 128 128 128 128 129 131 131 131 131 137 137 147 154 156 158 160 163 163 163 168 185 185 185 186 186 188 199 202 204 204 204 212 218 220 226 229 229 231 238 241 241 241 242 244 250 253 256 257 259 260 260 261 261 262 264 268 275 277 286 291 293 296 298 298 310 313 314 314 315 316 317 317 319 331 332 332 332 332 334 340 346 349 351 355 358 363 367 369 372 372 372 373 389 389 390 391 392 392 401 403 413 414 417 424 426 429 429 430 431 442 443 443 446 447 447 448 449 454 459 460 464 471 477 480 481 485 486 492 495 495 500 500 504 514 514 517 517 517 518 521 527 529 544 545 550 552 557 558 560 560 561 566 574 575 576 577 578 578 584 593 594 596 605 606 609 610 613 617 617 623 627 630 642 645 645 646 646 648 651 651 663 663 670 672 674 680 681 687 688 689 689 689 691 699 703 703 706 707 707 708 712 714 715 724 724 754 755 756 758 764 764 769 773 774 776 777 782 785 792 795 798 801 802 802 802 803 809 809 811 815 819 820 826 827 828 831 831 835 843 849 855 866 867 870 870 872 884 887 892 892 898 900 910 911 912 913 915 916 923 926 927 930 932 933 937 939 940 941 941 944 946 948 956 959 966 967 967 968 980 987 994 995 997 1003 1012 1015 1018 1023 1024 1030 1031 1038 1038 1039 1039 1040 1044 1046 1047 1052 1055 1059 1060 1061 1061 1069 1069 1070 1072 1075 1079 1094 1095 1095 1101 1104 1110 1117 1118 1122 1126 1127 1131 1134 1136 1143 1146 1153 1158 1160 1160 1166 1167 1170 1172 1174 1174 1175 1183 1198 1198 1201 1203 1203 1207 1207 1216 1217 1223 1223 1228 1232 1232 1235 1238 1241 1249 1257 1257 1263 1264 1264 1273 1273 1273 1280 1283 1284 1287 1288 1298 1299 1301 1311 1313 1316 1321 1326 1329 1330 1331 1332 1335 1336 1344 1345 1360 1363 1369 1370 1370 1370 1372 1376 1378 1386 1389 1394 1395 1401 1402 1411 1411 1412 1424 1427 1427 1432 1436 1443 1444 1447 1452 1458 1459 1460 1466 1468 1473 1473 1473 1475 1482 1489 1491 1492 1498 1509 1517 1517 1523 1525 1526 1530 1530 1533 1533 1539 1550 1556 1563 1574 1574 1575 1575 1579 1583 1586 1586 1587 1590 1590 1596 1599 1604 1605 1610 1612 1620 1624 1626 1629 1630 1631 1645 1647 1655 1661 1664 1665 1667 1684 1687 1688 1693 1699 1703 1704 1707 1711 1712 1715 1718 1718 1721 1721 1727 1727 1730 1741 1742 1748 1758 1761 1762 1764 1768 1768 1778 1787 1792 1794 1798 1807 1815 1815 1816 1819 1824 1825 1828 1842 1846 1849 1849 1849 1855 1858 1859 1861 1865 1867 1870 1881 1889 1889 1890 1895 1906 1906 1908 1915 1922 1922 1927 1928 1929 1938 1946 1952 1956 1959 1962 1964 1972 1977 1977 1980 1987 1992 2002 2005 2017 2018 2018 2019 2021 2023 2025 2026 2034 2034 2056 2058 2058 2059 2075 2077 2083 2085 2090 2090 2093 2100 2101 2108 2113 2119 2119 2120 2124 2126 2130 2133 2134 2147 2147 2150 2155 2162 2171 2176 2187 2189 2196 2204 2205 2213 2221 2221 2222 2225 2229 2233 2237 2239 2244 2244 2247 2262 2268 2275 2275 2278 2278 2282 2284 2318 2319 2323 2324 2332 2332 2334 2336 2338 2339 2349 2350 2352 2365 2375 2375 2381 2381 2388 2391 2393 2406 2406 2410 2421 2431 2433 2433 2435 2447 2449 2451 2462 2466 2467 2480 2486 2490 2496 2504 2506 2506 2512 2518 2519 2519 2522 2534 2536 2537 2544 2550 2561 2561 2577 2593 2596 2597 2609 2614 2614 2617 2618 2619 2634 2634 2635 2643 2647 2647 2651 2653 2664 2664 2668 2681 2685 2691 2708 2710 2721 2724 2730 2737 2742 2746 2748 2760 2765 2765 2772 2779 2781 2782 2782 2794 2799 2800 2813 2822 2822 2827 2836 2838 2849 2859 2861 2867 2884 2885 2893 2895 2896 2910 2925 2928 2928 2928 2928 2945 2950 2953 2962 2964 2968 2985 2985 2998 2998 2999 3025 3026 3031 3041 3042 3056 3056 3056 3073 3077 3078 3082 3096 3099 3113 3113 3127 3131 3132 3135 3138 3154 3157 3159 3170 3185 3189 3191 3195 3224 3230 3236 3241 3251 3259 3259 3260 3260 3262 3286 3291 3298 3298 3308 3317 3317 3327 3331 3354 3387 3388 3388 3388 3390 3392 3399 3399 3411 3411 3428 3445 3445 3445 3445 3459 3485 3489 3490 3512 3516 3527 3546 3548 3555 3556 3558 3573 3573 3576 3591 3613 3644 3648 3649 3649 3652 3676 3683 3686 3704 3709 3713 3719 3741 3750 3757 3776 3777 3780 3807 3812 3834 3837 3841 3854 3869 3904 3905 3908 3913 3940 3944 3962 3965 3966 3997 4017 4023 4036 4041 4045 4090 4093 4094 4100 4102 4126 4151 4173 4197 4201 4203 4221 4227 4230 4254 4254 4258 4298 4329 4334 4355 4355 4355 4357 4358 4386 4412 4426 4458 4458 4471 4483 4483 4514 4515 4540 4559 4586 4611 4616 4627 4643 4668 4687 4724 4744 4771 4781 4872 4884 4985'\n",
    "test_spectrum = parse_spectrum(test_spectrum_)\n",
    "test_masses = len(test_leaderboard) * [0]\n",
    "test_leaderboard_size = 5"
   ]
  },
  {
   "cell_type": "code",
   "execution_count": 14,
   "metadata": {},
   "outputs": [],
   "source": [
    "test_result, _ = trim(test_leaderboard, test_masses, test_spectrum, test_leaderboard_size)"
   ]
  },
  {
   "cell_type": "code",
   "execution_count": 15,
   "metadata": {},
   "outputs": [
    {
     "name": "stdout",
     "output_type": "stream",
     "text": [
      "MMPMVIIDVEHPKAYSTNMDPTMYPKHRSDCTHFTRIYNLYHR WQVCFMCCVFGYPQAITTMEGMLDSYEHVWKVAYDTFRGSFHK SGCHAAIMYSVIGMGVGFQTNMLKQETYHFCDRTEQEQPWCML IYSIRMCHQFWFPCGQMVRKISVNGHVDRRREVMWGITIFMMT QISSPRQWGPPFRKLKSTYQPCGFWCPAHFHQGGSAMHMAMPN\n"
     ]
    }
   ],
   "source": [
    "print(' '.join(test_result))"
   ]
  },
  {
   "cell_type": "markdown",
   "metadata": {},
   "source": [
    "---\n",
    "## Leaderboard Cyclopeptide Sequencing"
   ]
  },
  {
   "cell_type": "markdown",
   "metadata": {},
   "source": [
    "    LeaderboardCyclopeptideSequencing(Spectrum, N)\n",
    "        Leaderboard ← set containing only the empty peptide\n",
    "        LeaderPeptide ← empty peptide\n",
    "        while Leaderboard is non-empty\n",
    "            Leaderboard ← Expand(Leaderboard)\n",
    "            for each Peptide in Leaderboard\n",
    "                if Mass(Peptide) = ParentMass(Spectrum)\n",
    "                    if Score(Peptide, Spectrum) > Score(LeaderPeptide, Spectrum)\n",
    "                        LeaderPeptide ← Peptide\n",
    "                else if Mass(Peptide) > ParentMass(Spectrum)\n",
    "                    remove Peptide from Leaderboard\n",
    "            Leaderboard ← Trim(Leaderboard, Spectrum, N)\n",
    "        output LeaderPeptide"
   ]
  },
  {
   "cell_type": "code",
   "execution_count": 18,
   "metadata": {},
   "outputs": [],
   "source": [
    "def expand(peptides, masses, integer_masses=INTEGER_MASSES):\n",
    "    new = [\n",
    "        (peptide + aa, mass + aa_mass)\n",
    "        for aa, aa_mass in integer_masses.items() \n",
    "        for peptide, mass in zip(peptides, masses)\n",
    "    ]\n",
    "    new_peptides, new_masses = zip(*new)\n",
    "    return list(new_peptides), list(new_masses)"
   ]
  },
  {
   "cell_type": "code",
   "execution_count": 43,
   "metadata": {},
   "outputs": [],
   "source": [
    "def leaderboard_cyclopeptide_sequencing(\n",
    "    spectrum, \n",
    "    leaderboard_size, \n",
    "    integer_masses=RESTRICTED_MASSES,\n",
    "):\n",
    "    leaderboard = ['']\n",
    "    leaderboard_masses = [0]\n",
    "    leader_peptide = ''\n",
    "    leader_score = 0\n",
    "    parent_mass = max(spectrum)\n",
    "    while leaderboard:\n",
    "        new_peptides, new_masses = expand(leaderboard, leaderboard_masses, integer_masses)\n",
    "        for peptide, peptide_mass in zip(new_peptides, new_masses):\n",
    "            if peptide_mass > parent_mass or peptide in leaderboard:\n",
    "                continue\n",
    "            leaderboard.append(peptide)\n",
    "            leaderboard_masses.append(peptide_mass)\n",
    "            if peptide_mass == parent_mass:\n",
    "                new_score = cyclo_score(peptide, spectrum, integer_masses)\n",
    "                if new_score > leader_score:\n",
    "                    leader_score = new_score\n",
    "                    leader_peptide = peptide\n",
    "        if len(leaderboard) > leaderboard_size:\n",
    "            leaderboard_trimmed, masses_trimmed = trim(\n",
    "                leaderboard, leaderboard_masses, spectrum, leaderboard_size, integer_masses)\n",
    "            if sorted(leaderboard_trimmed) == sorted(leaderboard):\n",
    "                break\n",
    "            leaderboard = leaderboard_trimmed[:]\n",
    "            leaderboard_masses = masses_trimmed[:]\n",
    "    top_scored = [\n",
    "        peptide \n",
    "        for peptide in leaderboard \n",
    "        if cyclo_score(peptide, spectrum, integer_masses) == leader_score\n",
    "    ]\n",
    "    top_peptides = [display_spectrum(peptide, integer_masses) for peptide in top_scored]\n",
    "    return leader_peptide, top_peptides"
   ]
  },
  {
   "cell_type": "code",
   "execution_count": 44,
   "metadata": {},
   "outputs": [],
   "source": [
    "sample_leaderboard_size = 10\n",
    "sample_spectrum_ = '0 71 113 129 147 200 218 260 313 331 347 389 460'\n",
    "sample_spectrum = parse_spectrum(sample_spectrum_)\n",
    "sample_output = '113-147-71-129'"
   ]
  },
  {
   "cell_type": "code",
   "execution_count": 45,
   "metadata": {},
   "outputs": [],
   "source": [
    "sample_leader, _ = leaderboard_cyclopeptide_sequencing(sample_spectrum, sample_leaderboard_size)\n",
    "assert sorted(sample_output.split('-')) == sorted(display_spectrum(sample_leader).split('-'))"
   ]
  },
  {
   "cell_type": "code",
   "execution_count": 46,
   "metadata": {},
   "outputs": [],
   "source": [
    "test_leaderboard_size = 237\n",
    "test_spectrum_ = '0 99 103 103 113 113 113 114 115 115 128 128 129 129 131 131 131 137 147 156 186 186 212 214 216 217 226 229 231 234 242 246 246 257 265 268 276 287 299 303 314 315 317 327 329 330 332 341 345 349 360 360 362 396 404 412 424 428 430 432 432 434 443 443 445 451 456 458 463 463 477 491 507 515 527 531 543 545 552 556 558 560 563 566 571 576 580 582 587 591 606 629 638 642 644 644 646 655 658 663 679 689 691 693 694 699 700 711 720 738 744 753 757 757 760 761 770 773 773 792 792 794 794 807 823 824 828 828 860 867 867 870 875 875 875 885 886 901 907 909 920 923 925 931 936 956 959 970 973 974 978 980 990 999 1006 1014 1014 1023 1038 1038 1040 1049 1059 1062 1072 1079 1083 1087 1087 1089 1102 1106 1109 1121 1126 1127 1142 1143 1154 1169 1177 1185 1190 1194 1196 1200 1202 1216 1220 1224 1224 1226 1235 1237 1239 1245 1256 1257 1271 1288 1291 1305 1313 1323 1325 1331 1333 1337 1341 1352 1352 1355 1355 1366 1370 1374 1376 1382 1384 1394 1402 1416 1419 1436 1450 1451 1462 1468 1470 1472 1481 1483 1483 1487 1491 1505 1507 1511 1513 1517 1522 1530 1538 1553 1564 1565 1580 1581 1586 1598 1601 1605 1618 1620 1620 1624 1628 1635 1645 1648 1658 1667 1669 1669 1684 1693 1693 1701 1708 1727 1729 1733 1734 1737 1748 1751 1771 1776 1782 1784 1787 1798 1800 1806 1821 1822 1832 1832 1832 1837 1840 1840 1847 1879 1879 1883 1884 1900 1913 1913 1915 1915 1934 1934 1937 1946 1947 1950 1950 1954 1963 1969 1987 1996 2007 2008 2013 2014 2016 2018 2028 2044 2049 2052 2061 2063 2063 2065 2069 2078 2101 2116 2120 2125 2127 2131 2136 2141 2144 2147 2149 2151 2155 2162 2164 2176 2180 2192 2200 2216 2230 2244 2244 2249 2251 2256 2262 2264 2264 2273 2275 2275 2277 2279 2283 2295 2303 2311 2345 2347 2347 2358 2362 2366 2375 2377 2378 2380 2390 2392 2393 2404 2408 2420 2431 2439 2442 2450 2461 2461 2465 2473 2476 2478 2481 2490 2491 2493 2495 2521 2521 2551 2560 2570 2576 2576 2576 2578 2578 2579 2579 2592 2592 2593 2594 2594 2594 2604 2604 2608 2707'\n",
    "test_spectrum = parse_spectrum(test_spectrum_)"
   ]
  },
  {
   "cell_type": "code",
   "execution_count": 47,
   "metadata": {},
   "outputs": [],
   "source": [
    "# test_result, _ = leaderboard_cyclopeptide_sequencing(\n",
    "#     test_spectrum, test_leaderboard_size, integer_masses=RESTRICTED_MASSES)\n",
    "# print(display_spectrum(test_result))"
   ]
  },
  {
   "cell_type": "code",
   "execution_count": 48,
   "metadata": {},
   "outputs": [],
   "source": [
    "noisy_spectrum_ = '0 97 99 113 114 115 128 128 147 147 163 186 227 241 242 244 244 256 260 261 262 283 291 309 330 333 340 347 385 388 389 390 390 405 435 447 485 487 503 504 518 544 552 575 577 584 599 608 631 632 650 651 653 672 690 691 717 738 745 770 779 804 818 819 827 835 837 875 892 892 917 932 932 933 934 965 982 989 1039 1060 1062 1078 1080 1081 1095 1136 1159 1175 1175 1194 1194 1208 1209 1223 1322'\n",
    "noisy_spectrum = parse_spectrum(noisy_spectrum_)\n",
    "n = 1000"
   ]
  },
  {
   "cell_type": "code",
   "execution_count": 49,
   "metadata": {},
   "outputs": [
    {
     "name": "stdout",
     "output_type": "stream",
     "text": [
      "CPU times: user 1min 6s, sys: 308 ms, total: 1min 7s\n",
      "Wall time: 1min 7s\n"
     ]
    }
   ],
   "source": [
    "%%time\n",
    "noisy_leader, noisy_top = leaderboard_cyclopeptide_sequencing(\n",
    "    noisy_spectrum, n, integer_masses=RESTRICTED_MASSES)"
   ]
  },
  {
   "cell_type": "code",
   "execution_count": 50,
   "metadata": {},
   "outputs": [
    {
     "data": {
      "text/plain": [
       "38"
      ]
     },
     "execution_count": 50,
     "metadata": {},
     "output_type": "execute_result"
    }
   ],
   "source": [
    "len(noisy_top)"
   ]
  },
  {
   "cell_type": "code",
   "execution_count": 51,
   "metadata": {},
   "outputs": [],
   "source": [
    "assert len(noisy_top) == 38\n",
    "assert cyclo_score(noisy_leader, noisy_spectrum) == 83"
   ]
  },
  {
   "cell_type": "code",
   "execution_count": 52,
   "metadata": {},
   "outputs": [],
   "source": [
    "# print(' '.join(noisy_top))"
   ]
  },
  {
   "cell_type": "code",
   "execution_count": 53,
   "metadata": {},
   "outputs": [],
   "source": [
    "!afplay /System/Library/Sounds/Submarine.aiff"
   ]
  },
  {
   "cell_type": "markdown",
   "metadata": {},
   "source": [
    "---\n",
    "## Using All Plausible Masses"
   ]
  },
  {
   "cell_type": "code",
   "execution_count": 28,
   "metadata": {},
   "outputs": [],
   "source": [
    "all_masses = {chr(i): i for i in range(57, 201, 1)}"
   ]
  },
  {
   "cell_type": "code",
   "execution_count": 29,
   "metadata": {},
   "outputs": [],
   "source": [
    "spectrum_all_ = '0 97 99 114 128 147 147 163 186 227 241 242 244 260 261 262 283 291 333 340 357 385 389 390 390 405 430 430 447 485 487 503 504 518 543 544 552 575 577 584 632 650 651 671 672 690 691 738 745 747 770 778 779 804 818 819 820 835 837 875 892 917 932 932 933 934 965 982 989 1030 1039 1060 1061 1062 1078 1080 1081 1095 1136 1159 1175 1175 1194 1194 1208 1209 1223 1225 1322'\n",
    "spectrum_all = parse_spectrum(spectrum_all_)\n",
    "n_all = 1000"
   ]
  },
  {
   "cell_type": "code",
   "execution_count": 30,
   "metadata": {},
   "outputs": [
    {
     "name": "stdout",
     "output_type": "stream",
     "text": [
      "61 0\n",
      "75 61\n",
      "86 75\n",
      "87 86\n",
      "CPU times: user 1h 49min 42s, sys: 32.3 s, total: 1h 50min 15s\n",
      "Wall time: 1h 51min 39s\n"
     ]
    }
   ],
   "source": [
    "%%time\n",
    "_, top = leaderboard_cyclopeptide_sequencing(\n",
    "    spectrum=spectrum_all, \n",
    "    leaderboard_size=n_all, \n",
    "    integer_masses=all_masses\n",
    ")"
   ]
  },
  {
   "cell_type": "code",
   "execution_count": 31,
   "metadata": {},
   "outputs": [],
   "source": [
    "!afplay /System/Library/Sounds/Submarine.aiff"
   ]
  },
  {
   "cell_type": "code",
   "execution_count": 54,
   "metadata": {},
   "outputs": [],
   "source": [
    "assert len(top) == 34"
   ]
  },
  {
   "cell_type": "code",
   "execution_count": 34,
   "metadata": {},
   "outputs": [
    {
     "name": "stdout",
     "output_type": "stream",
     "text": [
      "113-147-97-186-147-114-128-98-65-99-128 113-147-97-186-147-114-128-98-65-99-71-57 113-147-97-186-147-114-128-98-65-99-70-58 113-147-97-186-147-114-128-98-65-99-69-59 113-147-97-186-147-114-128-98-65-99-68-60 113-147-97-186-147-114-128-98-65-99-67-61 113-147-97-186-147-114-128-98-65-99-66-62 113-147-97-186-147-114-128-98-65-99-65-63 113-147-97-186-147-114-128-98-65-99-64-64 113-147-97-186-147-114-128-98-65-99-63-65 113-147-97-186-147-114-128-98-65-99-62-66 113-147-97-186-147-114-128-98-65-99-61-67 113-147-97-186-147-114-128-98-65-99-60-68 113-147-97-186-147-114-128-98-65-99-59-69 113-147-97-186-147-114-128-98-65-99-58-70 113-147-97-186-147-114-128-98-65-99-57-71 147-186-97-147-113-128-99-65-98-128-57-57 128-113-147-97-186-147-114-128-98-65-99 99-163-128-114-147-98-88-97-147-113-57-71 147-97-186-147-114-128-98-65-99-128-113 128-114-147-186-97-147-113-128-99-65-98 113-147-97-186-147-114-71-57-163-99-66-62 99-163-128-114-147-124-62-97-147-113-57-71 99-163-128-114-147-113-73-97-147-113-57-71 147-186-97-147-113-128-99-65-98-128-114 147-114-128-163-99-128-113-147-97-73-113 128-99-163-128-114-147-113-73-97-147-113 114-147-186-97-147-113-128-99-65-98-128 97-186-74-73-114-128-163-99-128-113-75-72 99-163-128-114-147-124-62-97-147-113-128 99-163-128-114-147-186-97-72-75-113-128 99-163-128-114-147-113-73-97-147-113-128 97-186-147-114-128-98-65-99-128-113-147 97-147-113-128-99-163-128-114-73-74-58-66-62\n"
     ]
    }
   ],
   "source": [
    "print(' '.join(top))"
   ]
  }
 ],
 "metadata": {
  "kernelspec": {
   "display_name": "Python 3",
   "language": "python",
   "name": "python3"
  },
  "language_info": {
   "codemirror_mode": {
    "name": "ipython",
    "version": 3
   },
   "file_extension": ".py",
   "mimetype": "text/x-python",
   "name": "python",
   "nbconvert_exporter": "python",
   "pygments_lexer": "ipython3",
   "version": "3.6.8"
  }
 },
 "nbformat": 4,
 "nbformat_minor": 2
}
